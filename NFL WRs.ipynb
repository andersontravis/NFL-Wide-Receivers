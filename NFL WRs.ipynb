{
 "cells": [
  {
   "cell_type": "markdown",
   "id": "9be1297b",
   "metadata": {},
   "source": []
  },
  {
   "cell_type": "code",
   "execution_count": 3,
   "id": "323b4765",
   "metadata": {},
   "outputs": [],
   "source": [
    "# load libraries that will be helpful in exploring and analyzing the data\n",
    "import pandas as pd\n",
    "import numpy as np\n",
    "import matplotlib.pyplot as plt\n",
    "import glob"
   ]
  },
  {
   "cell_type": "code",
   "execution_count": 4,
   "id": "78a73b5d",
   "metadata": {},
   "outputs": [
    {
     "name": "stdout",
     "output_type": "stream",
     "text": [
      "240\n"
     ]
    }
   ],
   "source": [
    "nfl_wr_files = glob.glob('FantasyPros*.csv')\n",
    "\n",
    "nfl_wr_file_list = []\n",
    "\n",
    "for file in nfl_wr_files:\n",
    "  data = pd.read_csv(file)\n",
    "  nfl_wr_file_list.append(data)\n",
    "\n",
    "nfl_wr_2013_2022 = pd.concat(nfl_wr_file_list)\n",
    "\n",
    "# print the length to ensure that all files were glob'd correctly. There should be 240 entries.\n",
    "print(len(nfl_wr_2013_2022))"
   ]
  },
  {
   "cell_type": "code",
   "execution_count": 5,
   "id": "1b8601ff",
   "metadata": {},
   "outputs": [
    {
     "name": "stdout",
     "output_type": "stream",
     "text": [
      "Index(['Rank', 'Player', 'REC', 'TGT', 'YDS', 'Y/R', 'LG', '20+', 'TD', 'ATT',\n",
      "       'YDS.1', 'TD.1', 'FL', 'G', 'FPTS', 'FPTS/G', 'ROST', 'DRAFTED', 'YEAR',\n",
      "       'YRDrafted', 'YearInLeague', 'DraftedTeam'],\n",
      "      dtype='object')\n",
      "Rank              int64\n",
      "Player           object\n",
      "REC               int64\n",
      "TGT               int64\n",
      "YDS              object\n",
      "Y/R             float64\n",
      "LG                int64\n",
      "20+               int64\n",
      "TD                int64\n",
      "ATT               int64\n",
      "YDS.1             int64\n",
      "TD.1              int64\n",
      "FL                int64\n",
      "G                 int64\n",
      "FPTS            float64\n",
      "FPTS/G          float64\n",
      "ROST             object\n",
      "DRAFTED           int64\n",
      "YEAR              int64\n",
      "YRDrafted         int64\n",
      "YearInLeague      int64\n",
      "DraftedTeam      object\n",
      "dtype: object\n"
     ]
    }
   ],
   "source": [
    "print(nfl_wr_2013_2022.columns)\n",
    "print(nfl_wr_2013_2022.dtypes)"
   ]
  },
  {
   "cell_type": "code",
   "execution_count": 6,
   "id": "1ac23a72",
   "metadata": {},
   "outputs": [
    {
     "data": {
      "text/html": [
       "<div>\n",
       "<style scoped>\n",
       "    .dataframe tbody tr th:only-of-type {\n",
       "        vertical-align: middle;\n",
       "    }\n",
       "\n",
       "    .dataframe tbody tr th {\n",
       "        vertical-align: top;\n",
       "    }\n",
       "\n",
       "    .dataframe thead th {\n",
       "        text-align: right;\n",
       "    }\n",
       "</style>\n",
       "<table border=\"1\" class=\"dataframe\">\n",
       "  <thead>\n",
       "    <tr style=\"text-align: right;\">\n",
       "      <th></th>\n",
       "      <th>Rank</th>\n",
       "      <th>Player</th>\n",
       "      <th>REC</th>\n",
       "      <th>TGT</th>\n",
       "      <th>YDS</th>\n",
       "      <th>Y/R</th>\n",
       "      <th>LG</th>\n",
       "      <th>20+</th>\n",
       "      <th>TD</th>\n",
       "      <th>ATT</th>\n",
       "      <th>...</th>\n",
       "      <th>FL</th>\n",
       "      <th>G</th>\n",
       "      <th>FPTS</th>\n",
       "      <th>FPTS/G</th>\n",
       "      <th>ROST</th>\n",
       "      <th>DRAFTED</th>\n",
       "      <th>YEAR</th>\n",
       "      <th>YRDrafted</th>\n",
       "      <th>YearInLeague</th>\n",
       "      <th>DraftedTeam</th>\n",
       "    </tr>\n",
       "  </thead>\n",
       "  <tbody>\n",
       "    <tr>\n",
       "      <th>0</th>\n",
       "      <td>1</td>\n",
       "      <td>Demaryius Thomas (FA)</td>\n",
       "      <td>92</td>\n",
       "      <td>142</td>\n",
       "      <td>1,430</td>\n",
       "      <td>15.5</td>\n",
       "      <td>78</td>\n",
       "      <td>19</td>\n",
       "      <td>14</td>\n",
       "      <td>0</td>\n",
       "      <td>...</td>\n",
       "      <td>0</td>\n",
       "      <td>16</td>\n",
       "      <td>273.0</td>\n",
       "      <td>17.1</td>\n",
       "      <td>0.10%</td>\n",
       "      <td>1</td>\n",
       "      <td>2013</td>\n",
       "      <td>2010</td>\n",
       "      <td>4</td>\n",
       "      <td>Broncos</td>\n",
       "    </tr>\n",
       "    <tr>\n",
       "      <th>1</th>\n",
       "      <td>2</td>\n",
       "      <td>Josh Gordon (FA)</td>\n",
       "      <td>87</td>\n",
       "      <td>159</td>\n",
       "      <td>1,646</td>\n",
       "      <td>18.9</td>\n",
       "      <td>95</td>\n",
       "      <td>30</td>\n",
       "      <td>9</td>\n",
       "      <td>5</td>\n",
       "      <td>...</td>\n",
       "      <td>0</td>\n",
       "      <td>14</td>\n",
       "      <td>270.9</td>\n",
       "      <td>19.4</td>\n",
       "      <td>0.00%</td>\n",
       "      <td>2</td>\n",
       "      <td>2013</td>\n",
       "      <td>2012</td>\n",
       "      <td>2</td>\n",
       "      <td>Browns</td>\n",
       "    </tr>\n",
       "    <tr>\n",
       "      <th>2</th>\n",
       "      <td>3</td>\n",
       "      <td>Calvin Johnson (FA)</td>\n",
       "      <td>84</td>\n",
       "      <td>157</td>\n",
       "      <td>1,492</td>\n",
       "      <td>17.8</td>\n",
       "      <td>87</td>\n",
       "      <td>22</td>\n",
       "      <td>12</td>\n",
       "      <td>0</td>\n",
       "      <td>...</td>\n",
       "      <td>1</td>\n",
       "      <td>14</td>\n",
       "      <td>261.2</td>\n",
       "      <td>18.7</td>\n",
       "      <td>0.10%</td>\n",
       "      <td>1</td>\n",
       "      <td>2013</td>\n",
       "      <td>2007</td>\n",
       "      <td>7</td>\n",
       "      <td>Lions</td>\n",
       "    </tr>\n",
       "    <tr>\n",
       "      <th>3</th>\n",
       "      <td>4</td>\n",
       "      <td>A.J. Green (FA)</td>\n",
       "      <td>98</td>\n",
       "      <td>178</td>\n",
       "      <td>1,426</td>\n",
       "      <td>14.6</td>\n",
       "      <td>82</td>\n",
       "      <td>18</td>\n",
       "      <td>11</td>\n",
       "      <td>0</td>\n",
       "      <td>...</td>\n",
       "      <td>0</td>\n",
       "      <td>16</td>\n",
       "      <td>257.6</td>\n",
       "      <td>16.1</td>\n",
       "      <td>0.60%</td>\n",
       "      <td>1</td>\n",
       "      <td>2013</td>\n",
       "      <td>2011</td>\n",
       "      <td>3</td>\n",
       "      <td>Bengals</td>\n",
       "    </tr>\n",
       "    <tr>\n",
       "      <th>4</th>\n",
       "      <td>5</td>\n",
       "      <td>Brandon Marshall (FA)</td>\n",
       "      <td>100</td>\n",
       "      <td>163</td>\n",
       "      <td>1,295</td>\n",
       "      <td>13.0</td>\n",
       "      <td>44</td>\n",
       "      <td>16</td>\n",
       "      <td>12</td>\n",
       "      <td>0</td>\n",
       "      <td>...</td>\n",
       "      <td>0</td>\n",
       "      <td>16</td>\n",
       "      <td>255.5</td>\n",
       "      <td>16.0</td>\n",
       "      <td>2.60%</td>\n",
       "      <td>4</td>\n",
       "      <td>2013</td>\n",
       "      <td>2006</td>\n",
       "      <td>8</td>\n",
       "      <td>Broncos</td>\n",
       "    </tr>\n",
       "  </tbody>\n",
       "</table>\n",
       "<p>5 rows × 22 columns</p>\n",
       "</div>"
      ],
      "text/plain": [
       "   Rank                 Player  REC  TGT    YDS   Y/R  LG  20+  TD  ATT  ...  \\\n",
       "0     1  Demaryius Thomas (FA)   92  142  1,430  15.5  78   19  14    0  ...   \n",
       "1     2       Josh Gordon (FA)   87  159  1,646  18.9  95   30   9    5  ...   \n",
       "2     3    Calvin Johnson (FA)   84  157  1,492  17.8  87   22  12    0  ...   \n",
       "3     4        A.J. Green (FA)   98  178  1,426  14.6  82   18  11    0  ...   \n",
       "4     5  Brandon Marshall (FA)  100  163  1,295  13.0  44   16  12    0  ...   \n",
       "\n",
       "   FL   G   FPTS  FPTS/G   ROST  DRAFTED  YEAR  YRDrafted  YearInLeague  \\\n",
       "0   0  16  273.0    17.1  0.10%        1  2013       2010             4   \n",
       "1   0  14  270.9    19.4  0.00%        2  2013       2012             2   \n",
       "2   1  14  261.2    18.7  0.10%        1  2013       2007             7   \n",
       "3   0  16  257.6    16.1  0.60%        1  2013       2011             3   \n",
       "4   0  16  255.5    16.0  2.60%        4  2013       2006             8   \n",
       "\n",
       "   DraftedTeam  \n",
       "0      Broncos  \n",
       "1       Browns  \n",
       "2        Lions  \n",
       "3      Bengals  \n",
       "4      Broncos  \n",
       "\n",
       "[5 rows x 22 columns]"
      ]
     },
     "execution_count": 6,
     "metadata": {},
     "output_type": "execute_result"
    }
   ],
   "source": [
    "nfl_wr_2013_2022.head()"
   ]
  },
  {
   "cell_type": "markdown",
   "id": "16684533",
   "metadata": {},
   "source": [
    "Most of these columns are in the correct data type and in one where I can perform analysis on it. The exceptions are YDS and ROST. ROST is the roster percentage of these players at the present date (April, 2023). It is not relevant to our analysis and I therefore will leave it alone. However, YDS is a relevant statistic. It appears that the comma for those with over 1,000 yards on the season caused it to read as an Object rather than an Int. I will use Regex to delete the comma and convert the column to numeric."
   ]
  },
  {
   "cell_type": "code",
   "execution_count": 7,
   "id": "d9a11303",
   "metadata": {},
   "outputs": [],
   "source": [
    "nfl_wr_2013_2022['YDS'] = nfl_wr_2013_2022['YDS'].replace(',', '', regex=True)\n",
    "nfl_wr_2013_2022.YDS = pd.to_numeric(nfl_wr_2013_2022.YDS)"
   ]
  },
  {
   "cell_type": "code",
   "execution_count": 8,
   "id": "cbd04e89",
   "metadata": {},
   "outputs": [
    {
     "data": {
      "text/plain": [
       "Rank              int64\n",
       "Player           object\n",
       "REC               int64\n",
       "TGT               int64\n",
       "YDS               int64\n",
       "Y/R             float64\n",
       "LG                int64\n",
       "20+               int64\n",
       "TD                int64\n",
       "ATT               int64\n",
       "YDS.1             int64\n",
       "TD.1              int64\n",
       "FL                int64\n",
       "G                 int64\n",
       "FPTS            float64\n",
       "FPTS/G          float64\n",
       "ROST             object\n",
       "DRAFTED           int64\n",
       "YEAR              int64\n",
       "YRDrafted         int64\n",
       "YearInLeague      int64\n",
       "DraftedTeam      object\n",
       "dtype: object"
      ]
     },
     "execution_count": 8,
     "metadata": {},
     "output_type": "execute_result"
    }
   ],
   "source": [
    "# call dtypes again to ensure that the conversion was successful. YDS should now be int64\n",
    "nfl_wr_2013_2022.dtypes"
   ]
  },
  {
   "cell_type": "code",
   "execution_count": 9,
   "id": "2e1019e7",
   "metadata": {},
   "outputs": [
    {
     "data": {
      "text/html": [
       "<div>\n",
       "<style scoped>\n",
       "    .dataframe tbody tr th:only-of-type {\n",
       "        vertical-align: middle;\n",
       "    }\n",
       "\n",
       "    .dataframe tbody tr th {\n",
       "        vertical-align: top;\n",
       "    }\n",
       "\n",
       "    .dataframe thead th {\n",
       "        text-align: right;\n",
       "    }\n",
       "</style>\n",
       "<table border=\"1\" class=\"dataframe\">\n",
       "  <thead>\n",
       "    <tr style=\"text-align: right;\">\n",
       "      <th></th>\n",
       "      <th>Rank</th>\n",
       "      <th>Player</th>\n",
       "      <th>REC</th>\n",
       "      <th>TGT</th>\n",
       "      <th>YDS</th>\n",
       "      <th>Y/R</th>\n",
       "      <th>LG</th>\n",
       "      <th>20+</th>\n",
       "      <th>TD</th>\n",
       "      <th>ATT</th>\n",
       "      <th>...</th>\n",
       "      <th>FL</th>\n",
       "      <th>G</th>\n",
       "      <th>FPTS</th>\n",
       "      <th>FPTS/G</th>\n",
       "      <th>ROST</th>\n",
       "      <th>DRAFTED</th>\n",
       "      <th>YEAR</th>\n",
       "      <th>YRDrafted</th>\n",
       "      <th>YearInLeague</th>\n",
       "      <th>DraftedTeam</th>\n",
       "    </tr>\n",
       "  </thead>\n",
       "  <tbody>\n",
       "    <tr>\n",
       "      <th>count</th>\n",
       "      <td>240.000000</td>\n",
       "      <td>240</td>\n",
       "      <td>240.000000</td>\n",
       "      <td>240.000000</td>\n",
       "      <td>240.000000</td>\n",
       "      <td>240.000000</td>\n",
       "      <td>240.000000</td>\n",
       "      <td>240.000000</td>\n",
       "      <td>240.000000</td>\n",
       "      <td>240.000000</td>\n",
       "      <td>...</td>\n",
       "      <td>240.000000</td>\n",
       "      <td>240.000000</td>\n",
       "      <td>240.000000</td>\n",
       "      <td>240.000000</td>\n",
       "      <td>240</td>\n",
       "      <td>240.000000</td>\n",
       "      <td>240.000000</td>\n",
       "      <td>240.000000</td>\n",
       "      <td>240.000000</td>\n",
       "      <td>240</td>\n",
       "    </tr>\n",
       "    <tr>\n",
       "      <th>unique</th>\n",
       "      <td>NaN</td>\n",
       "      <td>94</td>\n",
       "      <td>NaN</td>\n",
       "      <td>NaN</td>\n",
       "      <td>NaN</td>\n",
       "      <td>NaN</td>\n",
       "      <td>NaN</td>\n",
       "      <td>NaN</td>\n",
       "      <td>NaN</td>\n",
       "      <td>NaN</td>\n",
       "      <td>...</td>\n",
       "      <td>NaN</td>\n",
       "      <td>NaN</td>\n",
       "      <td>NaN</td>\n",
       "      <td>NaN</td>\n",
       "      <td>54</td>\n",
       "      <td>NaN</td>\n",
       "      <td>NaN</td>\n",
       "      <td>NaN</td>\n",
       "      <td>NaN</td>\n",
       "      <td>33</td>\n",
       "    </tr>\n",
       "    <tr>\n",
       "      <th>top</th>\n",
       "      <td>NaN</td>\n",
       "      <td>Mike Evans (TB)</td>\n",
       "      <td>NaN</td>\n",
       "      <td>NaN</td>\n",
       "      <td>NaN</td>\n",
       "      <td>NaN</td>\n",
       "      <td>NaN</td>\n",
       "      <td>NaN</td>\n",
       "      <td>NaN</td>\n",
       "      <td>NaN</td>\n",
       "      <td>...</td>\n",
       "      <td>NaN</td>\n",
       "      <td>NaN</td>\n",
       "      <td>NaN</td>\n",
       "      <td>NaN</td>\n",
       "      <td>0.00%</td>\n",
       "      <td>NaN</td>\n",
       "      <td>NaN</td>\n",
       "      <td>NaN</td>\n",
       "      <td>NaN</td>\n",
       "      <td>Steelers</td>\n",
       "    </tr>\n",
       "    <tr>\n",
       "      <th>freq</th>\n",
       "      <td>NaN</td>\n",
       "      <td>9</td>\n",
       "      <td>NaN</td>\n",
       "      <td>NaN</td>\n",
       "      <td>NaN</td>\n",
       "      <td>NaN</td>\n",
       "      <td>NaN</td>\n",
       "      <td>NaN</td>\n",
       "      <td>NaN</td>\n",
       "      <td>NaN</td>\n",
       "      <td>...</td>\n",
       "      <td>NaN</td>\n",
       "      <td>NaN</td>\n",
       "      <td>NaN</td>\n",
       "      <td>NaN</td>\n",
       "      <td>39</td>\n",
       "      <td>NaN</td>\n",
       "      <td>NaN</td>\n",
       "      <td>NaN</td>\n",
       "      <td>NaN</td>\n",
       "      <td>18</td>\n",
       "    </tr>\n",
       "    <tr>\n",
       "      <th>mean</th>\n",
       "      <td>12.500000</td>\n",
       "      <td>NaN</td>\n",
       "      <td>87.145833</td>\n",
       "      <td>135.495833</td>\n",
       "      <td>1173.416667</td>\n",
       "      <td>13.663333</td>\n",
       "      <td>61.575000</td>\n",
       "      <td>22.908333</td>\n",
       "      <td>7.891667</td>\n",
       "      <td>3.337500</td>\n",
       "      <td>...</td>\n",
       "      <td>0.587500</td>\n",
       "      <td>15.600000</td>\n",
       "      <td>210.798750</td>\n",
       "      <td>13.555417</td>\n",
       "      <td>NaN</td>\n",
       "      <td>2.550000</td>\n",
       "      <td>2017.500000</td>\n",
       "      <td>2013.570833</td>\n",
       "      <td>4.929167</td>\n",
       "      <td>NaN</td>\n",
       "    </tr>\n",
       "    <tr>\n",
       "      <th>std</th>\n",
       "      <td>6.936653</td>\n",
       "      <td>NaN</td>\n",
       "      <td>17.457407</td>\n",
       "      <td>23.597390</td>\n",
       "      <td>224.257924</td>\n",
       "      <td>2.172939</td>\n",
       "      <td>14.453887</td>\n",
       "      <td>9.984503</td>\n",
       "      <td>2.956578</td>\n",
       "      <td>5.690652</td>\n",
       "      <td>...</td>\n",
       "      <td>0.726551</td>\n",
       "      <td>1.085469</td>\n",
       "      <td>37.977887</td>\n",
       "      <td>2.445483</td>\n",
       "      <td>NaN</td>\n",
       "      <td>1.922559</td>\n",
       "      <td>2.878284</td>\n",
       "      <td>4.158369</td>\n",
       "      <td>2.747228</td>\n",
       "      <td>NaN</td>\n",
       "    </tr>\n",
       "    <tr>\n",
       "      <th>min</th>\n",
       "      <td>1.000000</td>\n",
       "      <td>NaN</td>\n",
       "      <td>43.000000</td>\n",
       "      <td>66.000000</td>\n",
       "      <td>593.000000</td>\n",
       "      <td>8.600000</td>\n",
       "      <td>28.000000</td>\n",
       "      <td>6.000000</td>\n",
       "      <td>2.000000</td>\n",
       "      <td>0.000000</td>\n",
       "      <td>...</td>\n",
       "      <td>0.000000</td>\n",
       "      <td>9.000000</td>\n",
       "      <td>151.900000</td>\n",
       "      <td>9.500000</td>\n",
       "      <td>NaN</td>\n",
       "      <td>1.000000</td>\n",
       "      <td>2013.000000</td>\n",
       "      <td>2001.000000</td>\n",
       "      <td>1.000000</td>\n",
       "      <td>NaN</td>\n",
       "    </tr>\n",
       "    <tr>\n",
       "      <th>25%</th>\n",
       "      <td>6.750000</td>\n",
       "      <td>NaN</td>\n",
       "      <td>75.000000</td>\n",
       "      <td>119.000000</td>\n",
       "      <td>1023.000000</td>\n",
       "      <td>12.100000</td>\n",
       "      <td>51.000000</td>\n",
       "      <td>16.000000</td>\n",
       "      <td>6.000000</td>\n",
       "      <td>0.000000</td>\n",
       "      <td>...</td>\n",
       "      <td>0.000000</td>\n",
       "      <td>15.000000</td>\n",
       "      <td>181.525000</td>\n",
       "      <td>11.800000</td>\n",
       "      <td>NaN</td>\n",
       "      <td>1.000000</td>\n",
       "      <td>2015.000000</td>\n",
       "      <td>2011.000000</td>\n",
       "      <td>3.000000</td>\n",
       "      <td>NaN</td>\n",
       "    </tr>\n",
       "    <tr>\n",
       "      <th>50%</th>\n",
       "      <td>12.500000</td>\n",
       "      <td>NaN</td>\n",
       "      <td>85.500000</td>\n",
       "      <td>134.000000</td>\n",
       "      <td>1133.500000</td>\n",
       "      <td>13.500000</td>\n",
       "      <td>60.000000</td>\n",
       "      <td>20.000000</td>\n",
       "      <td>8.000000</td>\n",
       "      <td>1.000000</td>\n",
       "      <td>...</td>\n",
       "      <td>0.000000</td>\n",
       "      <td>16.000000</td>\n",
       "      <td>201.350000</td>\n",
       "      <td>13.000000</td>\n",
       "      <td>NaN</td>\n",
       "      <td>2.000000</td>\n",
       "      <td>2017.500000</td>\n",
       "      <td>2014.000000</td>\n",
       "      <td>5.000000</td>\n",
       "      <td>NaN</td>\n",
       "    </tr>\n",
       "    <tr>\n",
       "      <th>75%</th>\n",
       "      <td>18.250000</td>\n",
       "      <td>NaN</td>\n",
       "      <td>99.000000</td>\n",
       "      <td>150.000000</td>\n",
       "      <td>1315.000000</td>\n",
       "      <td>15.100000</td>\n",
       "      <td>72.000000</td>\n",
       "      <td>29.000000</td>\n",
       "      <td>9.250000</td>\n",
       "      <td>5.000000</td>\n",
       "      <td>...</td>\n",
       "      <td>1.000000</td>\n",
       "      <td>16.000000</td>\n",
       "      <td>230.225000</td>\n",
       "      <td>14.825000</td>\n",
       "      <td>NaN</td>\n",
       "      <td>3.000000</td>\n",
       "      <td>2020.000000</td>\n",
       "      <td>2016.000000</td>\n",
       "      <td>7.000000</td>\n",
       "      <td>NaN</td>\n",
       "    </tr>\n",
       "    <tr>\n",
       "      <th>max</th>\n",
       "      <td>24.000000</td>\n",
       "      <td>NaN</td>\n",
       "      <td>149.000000</td>\n",
       "      <td>203.000000</td>\n",
       "      <td>1947.000000</td>\n",
       "      <td>20.900000</td>\n",
       "      <td>98.000000</td>\n",
       "      <td>57.000000</td>\n",
       "      <td>18.000000</td>\n",
       "      <td>59.000000</td>\n",
       "      <td>...</td>\n",
       "      <td>3.000000</td>\n",
       "      <td>17.000000</td>\n",
       "      <td>367.000000</td>\n",
       "      <td>21.600000</td>\n",
       "      <td>NaN</td>\n",
       "      <td>8.000000</td>\n",
       "      <td>2022.000000</td>\n",
       "      <td>2022.000000</td>\n",
       "      <td>14.000000</td>\n",
       "      <td>NaN</td>\n",
       "    </tr>\n",
       "  </tbody>\n",
       "</table>\n",
       "<p>11 rows × 22 columns</p>\n",
       "</div>"
      ],
      "text/plain": [
       "              Rank           Player         REC         TGT          YDS  \\\n",
       "count   240.000000              240  240.000000  240.000000   240.000000   \n",
       "unique         NaN               94         NaN         NaN          NaN   \n",
       "top            NaN  Mike Evans (TB)         NaN         NaN          NaN   \n",
       "freq           NaN                9         NaN         NaN          NaN   \n",
       "mean     12.500000              NaN   87.145833  135.495833  1173.416667   \n",
       "std       6.936653              NaN   17.457407   23.597390   224.257924   \n",
       "min       1.000000              NaN   43.000000   66.000000   593.000000   \n",
       "25%       6.750000              NaN   75.000000  119.000000  1023.000000   \n",
       "50%      12.500000              NaN   85.500000  134.000000  1133.500000   \n",
       "75%      18.250000              NaN   99.000000  150.000000  1315.000000   \n",
       "max      24.000000              NaN  149.000000  203.000000  1947.000000   \n",
       "\n",
       "               Y/R          LG         20+          TD         ATT  ...  \\\n",
       "count   240.000000  240.000000  240.000000  240.000000  240.000000  ...   \n",
       "unique         NaN         NaN         NaN         NaN         NaN  ...   \n",
       "top            NaN         NaN         NaN         NaN         NaN  ...   \n",
       "freq           NaN         NaN         NaN         NaN         NaN  ...   \n",
       "mean     13.663333   61.575000   22.908333    7.891667    3.337500  ...   \n",
       "std       2.172939   14.453887    9.984503    2.956578    5.690652  ...   \n",
       "min       8.600000   28.000000    6.000000    2.000000    0.000000  ...   \n",
       "25%      12.100000   51.000000   16.000000    6.000000    0.000000  ...   \n",
       "50%      13.500000   60.000000   20.000000    8.000000    1.000000  ...   \n",
       "75%      15.100000   72.000000   29.000000    9.250000    5.000000  ...   \n",
       "max      20.900000   98.000000   57.000000   18.000000   59.000000  ...   \n",
       "\n",
       "                FL           G        FPTS      FPTS/G   ROST     DRAFTED  \\\n",
       "count   240.000000  240.000000  240.000000  240.000000    240  240.000000   \n",
       "unique         NaN         NaN         NaN         NaN     54         NaN   \n",
       "top            NaN         NaN         NaN         NaN  0.00%         NaN   \n",
       "freq           NaN         NaN         NaN         NaN     39         NaN   \n",
       "mean      0.587500   15.600000  210.798750   13.555417    NaN    2.550000   \n",
       "std       0.726551    1.085469   37.977887    2.445483    NaN    1.922559   \n",
       "min       0.000000    9.000000  151.900000    9.500000    NaN    1.000000   \n",
       "25%       0.000000   15.000000  181.525000   11.800000    NaN    1.000000   \n",
       "50%       0.000000   16.000000  201.350000   13.000000    NaN    2.000000   \n",
       "75%       1.000000   16.000000  230.225000   14.825000    NaN    3.000000   \n",
       "max       3.000000   17.000000  367.000000   21.600000    NaN    8.000000   \n",
       "\n",
       "               YEAR    YRDrafted  YearInLeague  DraftedTeam  \n",
       "count    240.000000   240.000000    240.000000          240  \n",
       "unique          NaN          NaN           NaN           33  \n",
       "top             NaN          NaN           NaN     Steelers  \n",
       "freq            NaN          NaN           NaN           18  \n",
       "mean    2017.500000  2013.570833      4.929167          NaN  \n",
       "std        2.878284     4.158369      2.747228          NaN  \n",
       "min     2013.000000  2001.000000      1.000000          NaN  \n",
       "25%     2015.000000  2011.000000      3.000000          NaN  \n",
       "50%     2017.500000  2014.000000      5.000000          NaN  \n",
       "75%     2020.000000  2016.000000      7.000000          NaN  \n",
       "max     2022.000000  2022.000000     14.000000          NaN  \n",
       "\n",
       "[11 rows x 22 columns]"
      ]
     },
     "execution_count": 9,
     "metadata": {},
     "output_type": "execute_result"
    }
   ],
   "source": [
    "# starting exploration of data by looking at summary statistics\n",
    "nfl_wr_2013_2022.describe(include = 'all')"
   ]
  },
  {
   "cell_type": "code",
   "execution_count": 10,
   "id": "cf44129e",
   "metadata": {},
   "outputs": [
    {
     "data": {
      "text/plain": [
       "['49ers',\n",
       " 'Bears',\n",
       " 'Bengals',\n",
       " 'Bills',\n",
       " 'Broncos',\n",
       " 'Browns',\n",
       " 'Buccaneers',\n",
       " 'Cardinal',\n",
       " 'Cardinals',\n",
       " 'Chargers',\n",
       " 'Chiefs',\n",
       " 'Colts',\n",
       " 'Commanders',\n",
       " 'Cowboys',\n",
       " 'Dolphins',\n",
       " 'Eagles',\n",
       " 'Falcons',\n",
       " 'Giants',\n",
       " 'Jaguars',\n",
       " 'Jets',\n",
       " 'Lions',\n",
       " 'Packers',\n",
       " 'Panthers',\n",
       " 'Patriots',\n",
       " 'Raiders',\n",
       " 'Rams',\n",
       " 'Ravens',\n",
       " 'Saints',\n",
       " 'Seahawks',\n",
       " 'Steelers',\n",
       " 'Texans',\n",
       " 'Titans',\n",
       " 'Vikings']"
      ]
     },
     "execution_count": 10,
     "metadata": {},
     "output_type": "execute_result"
    }
   ],
   "source": [
    "# there are 32 teams in the NFL, but the DraftedTeam Column shows 33 unique teams in the column. A further look to see about typos or other errors should be conducted\n",
    "sorted(nfl_wr_2013_2022.DraftedTeam.unique())"
   ]
  },
  {
   "cell_type": "markdown",
   "id": "c68eed2a",
   "metadata": {},
   "source": [
    "The above list shows that both 'Cardinal' and 'Cardinals' are listed. The typo comes from not pluralising at least one of the entries. I will use replace to update 'Cardinal' to 'Cardinals.' "
   ]
  },
  {
   "cell_type": "code",
   "execution_count": 11,
   "id": "6c36cca0",
   "metadata": {},
   "outputs": [
    {
     "data": {
      "text/html": [
       "<div>\n",
       "<style scoped>\n",
       "    .dataframe tbody tr th:only-of-type {\n",
       "        vertical-align: middle;\n",
       "    }\n",
       "\n",
       "    .dataframe tbody tr th {\n",
       "        vertical-align: top;\n",
       "    }\n",
       "\n",
       "    .dataframe thead th {\n",
       "        text-align: right;\n",
       "    }\n",
       "</style>\n",
       "<table border=\"1\" class=\"dataframe\">\n",
       "  <thead>\n",
       "    <tr style=\"text-align: right;\">\n",
       "      <th></th>\n",
       "      <th>Rank</th>\n",
       "      <th>Player</th>\n",
       "      <th>REC</th>\n",
       "      <th>TGT</th>\n",
       "      <th>YDS</th>\n",
       "      <th>Y/R</th>\n",
       "      <th>LG</th>\n",
       "      <th>20+</th>\n",
       "      <th>TD</th>\n",
       "      <th>ATT</th>\n",
       "      <th>...</th>\n",
       "      <th>FL</th>\n",
       "      <th>G</th>\n",
       "      <th>FPTS</th>\n",
       "      <th>FPTS/G</th>\n",
       "      <th>ROST</th>\n",
       "      <th>DRAFTED</th>\n",
       "      <th>YEAR</th>\n",
       "      <th>YRDrafted</th>\n",
       "      <th>YearInLeague</th>\n",
       "      <th>DraftedTeam</th>\n",
       "    </tr>\n",
       "  </thead>\n",
       "  <tbody>\n",
       "    <tr>\n",
       "      <th>10</th>\n",
       "      <td>11</td>\n",
       "      <td>Christian Kirk (JAC)</td>\n",
       "      <td>84</td>\n",
       "      <td>133</td>\n",
       "      <td>1108</td>\n",
       "      <td>13.2</td>\n",
       "      <td>49</td>\n",
       "      <td>27</td>\n",
       "      <td>8</td>\n",
       "      <td>5</td>\n",
       "      <td>...</td>\n",
       "      <td>1</td>\n",
       "      <td>17</td>\n",
       "      <td>199.9</td>\n",
       "      <td>11.8</td>\n",
       "      <td>90.80%</td>\n",
       "      <td>2</td>\n",
       "      <td>2022</td>\n",
       "      <td>2018</td>\n",
       "      <td>5</td>\n",
       "      <td>Cardinal</td>\n",
       "    </tr>\n",
       "  </tbody>\n",
       "</table>\n",
       "<p>1 rows × 22 columns</p>\n",
       "</div>"
      ],
      "text/plain": [
       "    Rank                Player  REC  TGT   YDS   Y/R  LG  20+  TD  ATT  ...  \\\n",
       "10    11  Christian Kirk (JAC)   84  133  1108  13.2  49   27   8    5  ...   \n",
       "\n",
       "    FL   G   FPTS  FPTS/G    ROST  DRAFTED  YEAR  YRDrafted  YearInLeague  \\\n",
       "10   1  17  199.9    11.8  90.80%        2  2022       2018             5   \n",
       "\n",
       "    DraftedTeam  \n",
       "10     Cardinal  \n",
       "\n",
       "[1 rows x 22 columns]"
      ]
     },
     "execution_count": 11,
     "metadata": {},
     "output_type": "execute_result"
    }
   ],
   "source": [
    "nfl_wr_2013_2022[nfl_wr_2013_2022.DraftedTeam == 'Cardinal']"
   ]
  },
  {
   "cell_type": "code",
   "execution_count": 12,
   "id": "00227f82",
   "metadata": {},
   "outputs": [],
   "source": [
    "nfl_wr_2013_2022['DraftedTeam'] = nfl_wr_2013_2022['DraftedTeam'].replace({'Cardinal': 'Cardinals'})"
   ]
  },
  {
   "cell_type": "code",
   "execution_count": 13,
   "id": "49d08c24",
   "metadata": {},
   "outputs": [
    {
     "data": {
      "text/html": [
       "<div>\n",
       "<style scoped>\n",
       "    .dataframe tbody tr th:only-of-type {\n",
       "        vertical-align: middle;\n",
       "    }\n",
       "\n",
       "    .dataframe tbody tr th {\n",
       "        vertical-align: top;\n",
       "    }\n",
       "\n",
       "    .dataframe thead th {\n",
       "        text-align: right;\n",
       "    }\n",
       "</style>\n",
       "<table border=\"1\" class=\"dataframe\">\n",
       "  <thead>\n",
       "    <tr style=\"text-align: right;\">\n",
       "      <th></th>\n",
       "      <th>Rank</th>\n",
       "      <th>Player</th>\n",
       "      <th>REC</th>\n",
       "      <th>TGT</th>\n",
       "      <th>YDS</th>\n",
       "      <th>Y/R</th>\n",
       "      <th>LG</th>\n",
       "      <th>20+</th>\n",
       "      <th>TD</th>\n",
       "      <th>ATT</th>\n",
       "      <th>...</th>\n",
       "      <th>FL</th>\n",
       "      <th>G</th>\n",
       "      <th>FPTS</th>\n",
       "      <th>FPTS/G</th>\n",
       "      <th>ROST</th>\n",
       "      <th>DRAFTED</th>\n",
       "      <th>YEAR</th>\n",
       "      <th>YRDrafted</th>\n",
       "      <th>YearInLeague</th>\n",
       "      <th>DraftedTeam</th>\n",
       "    </tr>\n",
       "  </thead>\n",
       "  <tbody>\n",
       "  </tbody>\n",
       "</table>\n",
       "<p>0 rows × 22 columns</p>\n",
       "</div>"
      ],
      "text/plain": [
       "Empty DataFrame\n",
       "Columns: [Rank, Player, REC, TGT, YDS, Y/R, LG, 20+, TD, ATT, YDS.1, TD.1, FL, G, FPTS, FPTS/G, ROST, DRAFTED, YEAR, YRDrafted, YearInLeague, DraftedTeam]\n",
       "Index: []\n",
       "\n",
       "[0 rows x 22 columns]"
      ]
     },
     "execution_count": 13,
     "metadata": {},
     "output_type": "execute_result"
    }
   ],
   "source": [
    "# double check that it successfully replaced Cardinal\n",
    "nfl_wr_2013_2022[nfl_wr_2013_2022.DraftedTeam == 'Cardinal']"
   ]
  },
  {
   "cell_type": "code",
   "execution_count": 14,
   "id": "ded860e4",
   "metadata": {},
   "outputs": [
    {
     "data": {
      "text/html": [
       "<div>\n",
       "<style scoped>\n",
       "    .dataframe tbody tr th:only-of-type {\n",
       "        vertical-align: middle;\n",
       "    }\n",
       "\n",
       "    .dataframe tbody tr th {\n",
       "        vertical-align: top;\n",
       "    }\n",
       "\n",
       "    .dataframe thead th {\n",
       "        text-align: right;\n",
       "    }\n",
       "</style>\n",
       "<table border=\"1\" class=\"dataframe\">\n",
       "  <thead>\n",
       "    <tr style=\"text-align: right;\">\n",
       "      <th></th>\n",
       "      <th>Rank</th>\n",
       "      <th>Player</th>\n",
       "      <th>REC</th>\n",
       "      <th>TGT</th>\n",
       "      <th>YDS</th>\n",
       "      <th>Y/R</th>\n",
       "      <th>LG</th>\n",
       "      <th>20+</th>\n",
       "      <th>TD</th>\n",
       "      <th>ATT</th>\n",
       "      <th>...</th>\n",
       "      <th>FL</th>\n",
       "      <th>G</th>\n",
       "      <th>FPTS</th>\n",
       "      <th>FPTS/G</th>\n",
       "      <th>ROST</th>\n",
       "      <th>DRAFTED</th>\n",
       "      <th>YEAR</th>\n",
       "      <th>YRDrafted</th>\n",
       "      <th>YearInLeague</th>\n",
       "      <th>DraftedTeam</th>\n",
       "    </tr>\n",
       "  </thead>\n",
       "  <tbody>\n",
       "    <tr>\n",
       "      <th>13</th>\n",
       "      <td>14</td>\n",
       "      <td>Anquan Boldin (FA)</td>\n",
       "      <td>85</td>\n",
       "      <td>129</td>\n",
       "      <td>1179</td>\n",
       "      <td>13.9</td>\n",
       "      <td>63</td>\n",
       "      <td>19</td>\n",
       "      <td>7</td>\n",
       "      <td>2</td>\n",
       "      <td>...</td>\n",
       "      <td>0</td>\n",
       "      <td>16</td>\n",
       "      <td>203.5</td>\n",
       "      <td>12.7</td>\n",
       "      <td>0.10%</td>\n",
       "      <td>2</td>\n",
       "      <td>2013</td>\n",
       "      <td>2003</td>\n",
       "      <td>11</td>\n",
       "      <td>Cardinals</td>\n",
       "    </tr>\n",
       "    <tr>\n",
       "      <th>16</th>\n",
       "      <td>17</td>\n",
       "      <td>Larry Fitzgerald (FA)</td>\n",
       "      <td>82</td>\n",
       "      <td>134</td>\n",
       "      <td>954</td>\n",
       "      <td>11.6</td>\n",
       "      <td>75</td>\n",
       "      <td>11</td>\n",
       "      <td>10</td>\n",
       "      <td>2</td>\n",
       "      <td>...</td>\n",
       "      <td>1</td>\n",
       "      <td>16</td>\n",
       "      <td>195.2</td>\n",
       "      <td>12.2</td>\n",
       "      <td>0.20%</td>\n",
       "      <td>1</td>\n",
       "      <td>2013</td>\n",
       "      <td>2004</td>\n",
       "      <td>10</td>\n",
       "      <td>Cardinals</td>\n",
       "    </tr>\n",
       "    <tr>\n",
       "      <th>22</th>\n",
       "      <td>23</td>\n",
       "      <td>Michael Floyd (FA)</td>\n",
       "      <td>65</td>\n",
       "      <td>112</td>\n",
       "      <td>1041</td>\n",
       "      <td>16.0</td>\n",
       "      <td>91</td>\n",
       "      <td>17</td>\n",
       "      <td>5</td>\n",
       "      <td>0</td>\n",
       "      <td>...</td>\n",
       "      <td>0</td>\n",
       "      <td>16</td>\n",
       "      <td>166.6</td>\n",
       "      <td>10.4</td>\n",
       "      <td>0.00%</td>\n",
       "      <td>1</td>\n",
       "      <td>2013</td>\n",
       "      <td>2012</td>\n",
       "      <td>2</td>\n",
       "      <td>Cardinals</td>\n",
       "    </tr>\n",
       "    <tr>\n",
       "      <th>19</th>\n",
       "      <td>20</td>\n",
       "      <td>Anquan Boldin (FA)</td>\n",
       "      <td>83</td>\n",
       "      <td>131</td>\n",
       "      <td>1062</td>\n",
       "      <td>12.8</td>\n",
       "      <td>76</td>\n",
       "      <td>14</td>\n",
       "      <td>5</td>\n",
       "      <td>1</td>\n",
       "      <td>...</td>\n",
       "      <td>0</td>\n",
       "      <td>16</td>\n",
       "      <td>178.1</td>\n",
       "      <td>11.1</td>\n",
       "      <td>0.10%</td>\n",
       "      <td>2</td>\n",
       "      <td>2014</td>\n",
       "      <td>2003</td>\n",
       "      <td>12</td>\n",
       "      <td>Cardinals</td>\n",
       "    </tr>\n",
       "    <tr>\n",
       "      <th>8</th>\n",
       "      <td>9</td>\n",
       "      <td>Larry Fitzgerald (FA)</td>\n",
       "      <td>109</td>\n",
       "      <td>145</td>\n",
       "      <td>1215</td>\n",
       "      <td>11.1</td>\n",
       "      <td>44</td>\n",
       "      <td>17</td>\n",
       "      <td>9</td>\n",
       "      <td>0</td>\n",
       "      <td>...</td>\n",
       "      <td>2</td>\n",
       "      <td>16</td>\n",
       "      <td>226.0</td>\n",
       "      <td>14.1</td>\n",
       "      <td>0.20%</td>\n",
       "      <td>1</td>\n",
       "      <td>2015</td>\n",
       "      <td>2004</td>\n",
       "      <td>12</td>\n",
       "      <td>Cardinals</td>\n",
       "    </tr>\n",
       "    <tr>\n",
       "      <th>22</th>\n",
       "      <td>23</td>\n",
       "      <td>John Brown (FA)</td>\n",
       "      <td>65</td>\n",
       "      <td>101</td>\n",
       "      <td>1003</td>\n",
       "      <td>15.4</td>\n",
       "      <td>68</td>\n",
       "      <td>11</td>\n",
       "      <td>7</td>\n",
       "      <td>3</td>\n",
       "      <td>...</td>\n",
       "      <td>1</td>\n",
       "      <td>15</td>\n",
       "      <td>175.0</td>\n",
       "      <td>11.7</td>\n",
       "      <td>0.00%</td>\n",
       "      <td>3</td>\n",
       "      <td>2015</td>\n",
       "      <td>2014</td>\n",
       "      <td>2</td>\n",
       "      <td>Cardinals</td>\n",
       "    </tr>\n",
       "    <tr>\n",
       "      <th>12</th>\n",
       "      <td>13</td>\n",
       "      <td>Larry Fitzgerald (FA)</td>\n",
       "      <td>107</td>\n",
       "      <td>150</td>\n",
       "      <td>1023</td>\n",
       "      <td>9.6</td>\n",
       "      <td>32</td>\n",
       "      <td>8</td>\n",
       "      <td>6</td>\n",
       "      <td>2</td>\n",
       "      <td>...</td>\n",
       "      <td>1</td>\n",
       "      <td>16</td>\n",
       "      <td>190.3</td>\n",
       "      <td>11.9</td>\n",
       "      <td>0.20%</td>\n",
       "      <td>1</td>\n",
       "      <td>2016</td>\n",
       "      <td>2004</td>\n",
       "      <td>13</td>\n",
       "      <td>Cardinals</td>\n",
       "    </tr>\n",
       "    <tr>\n",
       "      <th>4</th>\n",
       "      <td>5</td>\n",
       "      <td>Larry Fitzgerald (FA)</td>\n",
       "      <td>109</td>\n",
       "      <td>161</td>\n",
       "      <td>1156</td>\n",
       "      <td>10.6</td>\n",
       "      <td>37</td>\n",
       "      <td>16</td>\n",
       "      <td>6</td>\n",
       "      <td>0</td>\n",
       "      <td>...</td>\n",
       "      <td>1</td>\n",
       "      <td>16</td>\n",
       "      <td>206.9</td>\n",
       "      <td>12.9</td>\n",
       "      <td>0.20%</td>\n",
       "      <td>1</td>\n",
       "      <td>2017</td>\n",
       "      <td>2004</td>\n",
       "      <td>14</td>\n",
       "      <td>Cardinals</td>\n",
       "    </tr>\n",
       "    <tr>\n",
       "      <th>19</th>\n",
       "      <td>20</td>\n",
       "      <td>John Brown (FA)</td>\n",
       "      <td>72</td>\n",
       "      <td>115</td>\n",
       "      <td>1060</td>\n",
       "      <td>14.7</td>\n",
       "      <td>53</td>\n",
       "      <td>26</td>\n",
       "      <td>6</td>\n",
       "      <td>2</td>\n",
       "      <td>...</td>\n",
       "      <td>0</td>\n",
       "      <td>15</td>\n",
       "      <td>183.8</td>\n",
       "      <td>12.3</td>\n",
       "      <td>0.00%</td>\n",
       "      <td>3</td>\n",
       "      <td>2019</td>\n",
       "      <td>2014</td>\n",
       "      <td>6</td>\n",
       "      <td>Cardinals</td>\n",
       "    </tr>\n",
       "    <tr>\n",
       "      <th>10</th>\n",
       "      <td>11</td>\n",
       "      <td>Christian Kirk (JAC)</td>\n",
       "      <td>84</td>\n",
       "      <td>133</td>\n",
       "      <td>1108</td>\n",
       "      <td>13.2</td>\n",
       "      <td>49</td>\n",
       "      <td>27</td>\n",
       "      <td>8</td>\n",
       "      <td>5</td>\n",
       "      <td>...</td>\n",
       "      <td>1</td>\n",
       "      <td>17</td>\n",
       "      <td>199.9</td>\n",
       "      <td>11.8</td>\n",
       "      <td>90.80%</td>\n",
       "      <td>2</td>\n",
       "      <td>2022</td>\n",
       "      <td>2018</td>\n",
       "      <td>5</td>\n",
       "      <td>Cardinals</td>\n",
       "    </tr>\n",
       "  </tbody>\n",
       "</table>\n",
       "<p>10 rows × 22 columns</p>\n",
       "</div>"
      ],
      "text/plain": [
       "    Rank                 Player  REC  TGT   YDS   Y/R  LG  20+  TD  ATT  ...  \\\n",
       "13    14     Anquan Boldin (FA)   85  129  1179  13.9  63   19   7    2  ...   \n",
       "16    17  Larry Fitzgerald (FA)   82  134   954  11.6  75   11  10    2  ...   \n",
       "22    23     Michael Floyd (FA)   65  112  1041  16.0  91   17   5    0  ...   \n",
       "19    20     Anquan Boldin (FA)   83  131  1062  12.8  76   14   5    1  ...   \n",
       "8      9  Larry Fitzgerald (FA)  109  145  1215  11.1  44   17   9    0  ...   \n",
       "22    23        John Brown (FA)   65  101  1003  15.4  68   11   7    3  ...   \n",
       "12    13  Larry Fitzgerald (FA)  107  150  1023   9.6  32    8   6    2  ...   \n",
       "4      5  Larry Fitzgerald (FA)  109  161  1156  10.6  37   16   6    0  ...   \n",
       "19    20        John Brown (FA)   72  115  1060  14.7  53   26   6    2  ...   \n",
       "10    11   Christian Kirk (JAC)   84  133  1108  13.2  49   27   8    5  ...   \n",
       "\n",
       "    FL   G   FPTS  FPTS/G    ROST  DRAFTED  YEAR  YRDrafted  YearInLeague  \\\n",
       "13   0  16  203.5    12.7   0.10%        2  2013       2003            11   \n",
       "16   1  16  195.2    12.2   0.20%        1  2013       2004            10   \n",
       "22   0  16  166.6    10.4   0.00%        1  2013       2012             2   \n",
       "19   0  16  178.1    11.1   0.10%        2  2014       2003            12   \n",
       "8    2  16  226.0    14.1   0.20%        1  2015       2004            12   \n",
       "22   1  15  175.0    11.7   0.00%        3  2015       2014             2   \n",
       "12   1  16  190.3    11.9   0.20%        1  2016       2004            13   \n",
       "4    1  16  206.9    12.9   0.20%        1  2017       2004            14   \n",
       "19   0  15  183.8    12.3   0.00%        3  2019       2014             6   \n",
       "10   1  17  199.9    11.8  90.80%        2  2022       2018             5   \n",
       "\n",
       "    DraftedTeam  \n",
       "13    Cardinals  \n",
       "16    Cardinals  \n",
       "22    Cardinals  \n",
       "19    Cardinals  \n",
       "8     Cardinals  \n",
       "22    Cardinals  \n",
       "12    Cardinals  \n",
       "4     Cardinals  \n",
       "19    Cardinals  \n",
       "10    Cardinals  \n",
       "\n",
       "[10 rows x 22 columns]"
      ]
     },
     "execution_count": 14,
     "metadata": {},
     "output_type": "execute_result"
    }
   ],
   "source": [
    "nfl_wr_2013_2022[nfl_wr_2013_2022.DraftedTeam == 'Cardinals']"
   ]
  },
  {
   "cell_type": "code",
   "execution_count": 15,
   "id": "34b4f4b9",
   "metadata": {},
   "outputs": [
    {
     "data": {
      "text/html": [
       "<div>\n",
       "<style scoped>\n",
       "    .dataframe tbody tr th:only-of-type {\n",
       "        vertical-align: middle;\n",
       "    }\n",
       "\n",
       "    .dataframe tbody tr th {\n",
       "        vertical-align: top;\n",
       "    }\n",
       "\n",
       "    .dataframe thead th {\n",
       "        text-align: right;\n",
       "    }\n",
       "</style>\n",
       "<table border=\"1\" class=\"dataframe\">\n",
       "  <thead>\n",
       "    <tr style=\"text-align: right;\">\n",
       "      <th></th>\n",
       "      <th>Rank</th>\n",
       "      <th>Player</th>\n",
       "      <th>REC</th>\n",
       "      <th>TGT</th>\n",
       "      <th>YDS</th>\n",
       "      <th>Y/R</th>\n",
       "      <th>LG</th>\n",
       "      <th>20+</th>\n",
       "      <th>TD</th>\n",
       "      <th>ATT</th>\n",
       "      <th>...</th>\n",
       "      <th>FL</th>\n",
       "      <th>G</th>\n",
       "      <th>FPTS</th>\n",
       "      <th>FPTS/G</th>\n",
       "      <th>ROST</th>\n",
       "      <th>DRAFTED</th>\n",
       "      <th>YEAR</th>\n",
       "      <th>YRDrafted</th>\n",
       "      <th>YearInLeague</th>\n",
       "      <th>DraftedTeam</th>\n",
       "    </tr>\n",
       "  </thead>\n",
       "  <tbody>\n",
       "    <tr>\n",
       "      <th>count</th>\n",
       "      <td>240.000000</td>\n",
       "      <td>240</td>\n",
       "      <td>240.000000</td>\n",
       "      <td>240.000000</td>\n",
       "      <td>240.000000</td>\n",
       "      <td>240.000000</td>\n",
       "      <td>240.000000</td>\n",
       "      <td>240.000000</td>\n",
       "      <td>240.000000</td>\n",
       "      <td>240.000000</td>\n",
       "      <td>...</td>\n",
       "      <td>240.000000</td>\n",
       "      <td>240.000000</td>\n",
       "      <td>240.000000</td>\n",
       "      <td>240.000000</td>\n",
       "      <td>240</td>\n",
       "      <td>240.000000</td>\n",
       "      <td>240.000000</td>\n",
       "      <td>240.000000</td>\n",
       "      <td>240.000000</td>\n",
       "      <td>240</td>\n",
       "    </tr>\n",
       "    <tr>\n",
       "      <th>unique</th>\n",
       "      <td>NaN</td>\n",
       "      <td>94</td>\n",
       "      <td>NaN</td>\n",
       "      <td>NaN</td>\n",
       "      <td>NaN</td>\n",
       "      <td>NaN</td>\n",
       "      <td>NaN</td>\n",
       "      <td>NaN</td>\n",
       "      <td>NaN</td>\n",
       "      <td>NaN</td>\n",
       "      <td>...</td>\n",
       "      <td>NaN</td>\n",
       "      <td>NaN</td>\n",
       "      <td>NaN</td>\n",
       "      <td>NaN</td>\n",
       "      <td>54</td>\n",
       "      <td>NaN</td>\n",
       "      <td>NaN</td>\n",
       "      <td>NaN</td>\n",
       "      <td>NaN</td>\n",
       "      <td>32</td>\n",
       "    </tr>\n",
       "    <tr>\n",
       "      <th>top</th>\n",
       "      <td>NaN</td>\n",
       "      <td>Mike Evans (TB)</td>\n",
       "      <td>NaN</td>\n",
       "      <td>NaN</td>\n",
       "      <td>NaN</td>\n",
       "      <td>NaN</td>\n",
       "      <td>NaN</td>\n",
       "      <td>NaN</td>\n",
       "      <td>NaN</td>\n",
       "      <td>NaN</td>\n",
       "      <td>...</td>\n",
       "      <td>NaN</td>\n",
       "      <td>NaN</td>\n",
       "      <td>NaN</td>\n",
       "      <td>NaN</td>\n",
       "      <td>0.00%</td>\n",
       "      <td>NaN</td>\n",
       "      <td>NaN</td>\n",
       "      <td>NaN</td>\n",
       "      <td>NaN</td>\n",
       "      <td>Steelers</td>\n",
       "    </tr>\n",
       "    <tr>\n",
       "      <th>freq</th>\n",
       "      <td>NaN</td>\n",
       "      <td>9</td>\n",
       "      <td>NaN</td>\n",
       "      <td>NaN</td>\n",
       "      <td>NaN</td>\n",
       "      <td>NaN</td>\n",
       "      <td>NaN</td>\n",
       "      <td>NaN</td>\n",
       "      <td>NaN</td>\n",
       "      <td>NaN</td>\n",
       "      <td>...</td>\n",
       "      <td>NaN</td>\n",
       "      <td>NaN</td>\n",
       "      <td>NaN</td>\n",
       "      <td>NaN</td>\n",
       "      <td>39</td>\n",
       "      <td>NaN</td>\n",
       "      <td>NaN</td>\n",
       "      <td>NaN</td>\n",
       "      <td>NaN</td>\n",
       "      <td>18</td>\n",
       "    </tr>\n",
       "    <tr>\n",
       "      <th>mean</th>\n",
       "      <td>12.500000</td>\n",
       "      <td>NaN</td>\n",
       "      <td>87.145833</td>\n",
       "      <td>135.495833</td>\n",
       "      <td>1173.416667</td>\n",
       "      <td>13.663333</td>\n",
       "      <td>61.575000</td>\n",
       "      <td>22.908333</td>\n",
       "      <td>7.891667</td>\n",
       "      <td>3.337500</td>\n",
       "      <td>...</td>\n",
       "      <td>0.587500</td>\n",
       "      <td>15.600000</td>\n",
       "      <td>210.798750</td>\n",
       "      <td>13.555417</td>\n",
       "      <td>NaN</td>\n",
       "      <td>2.550000</td>\n",
       "      <td>2017.500000</td>\n",
       "      <td>2013.570833</td>\n",
       "      <td>4.929167</td>\n",
       "      <td>NaN</td>\n",
       "    </tr>\n",
       "    <tr>\n",
       "      <th>std</th>\n",
       "      <td>6.936653</td>\n",
       "      <td>NaN</td>\n",
       "      <td>17.457407</td>\n",
       "      <td>23.597390</td>\n",
       "      <td>224.257924</td>\n",
       "      <td>2.172939</td>\n",
       "      <td>14.453887</td>\n",
       "      <td>9.984503</td>\n",
       "      <td>2.956578</td>\n",
       "      <td>5.690652</td>\n",
       "      <td>...</td>\n",
       "      <td>0.726551</td>\n",
       "      <td>1.085469</td>\n",
       "      <td>37.977887</td>\n",
       "      <td>2.445483</td>\n",
       "      <td>NaN</td>\n",
       "      <td>1.922559</td>\n",
       "      <td>2.878284</td>\n",
       "      <td>4.158369</td>\n",
       "      <td>2.747228</td>\n",
       "      <td>NaN</td>\n",
       "    </tr>\n",
       "    <tr>\n",
       "      <th>min</th>\n",
       "      <td>1.000000</td>\n",
       "      <td>NaN</td>\n",
       "      <td>43.000000</td>\n",
       "      <td>66.000000</td>\n",
       "      <td>593.000000</td>\n",
       "      <td>8.600000</td>\n",
       "      <td>28.000000</td>\n",
       "      <td>6.000000</td>\n",
       "      <td>2.000000</td>\n",
       "      <td>0.000000</td>\n",
       "      <td>...</td>\n",
       "      <td>0.000000</td>\n",
       "      <td>9.000000</td>\n",
       "      <td>151.900000</td>\n",
       "      <td>9.500000</td>\n",
       "      <td>NaN</td>\n",
       "      <td>1.000000</td>\n",
       "      <td>2013.000000</td>\n",
       "      <td>2001.000000</td>\n",
       "      <td>1.000000</td>\n",
       "      <td>NaN</td>\n",
       "    </tr>\n",
       "    <tr>\n",
       "      <th>25%</th>\n",
       "      <td>6.750000</td>\n",
       "      <td>NaN</td>\n",
       "      <td>75.000000</td>\n",
       "      <td>119.000000</td>\n",
       "      <td>1023.000000</td>\n",
       "      <td>12.100000</td>\n",
       "      <td>51.000000</td>\n",
       "      <td>16.000000</td>\n",
       "      <td>6.000000</td>\n",
       "      <td>0.000000</td>\n",
       "      <td>...</td>\n",
       "      <td>0.000000</td>\n",
       "      <td>15.000000</td>\n",
       "      <td>181.525000</td>\n",
       "      <td>11.800000</td>\n",
       "      <td>NaN</td>\n",
       "      <td>1.000000</td>\n",
       "      <td>2015.000000</td>\n",
       "      <td>2011.000000</td>\n",
       "      <td>3.000000</td>\n",
       "      <td>NaN</td>\n",
       "    </tr>\n",
       "    <tr>\n",
       "      <th>50%</th>\n",
       "      <td>12.500000</td>\n",
       "      <td>NaN</td>\n",
       "      <td>85.500000</td>\n",
       "      <td>134.000000</td>\n",
       "      <td>1133.500000</td>\n",
       "      <td>13.500000</td>\n",
       "      <td>60.000000</td>\n",
       "      <td>20.000000</td>\n",
       "      <td>8.000000</td>\n",
       "      <td>1.000000</td>\n",
       "      <td>...</td>\n",
       "      <td>0.000000</td>\n",
       "      <td>16.000000</td>\n",
       "      <td>201.350000</td>\n",
       "      <td>13.000000</td>\n",
       "      <td>NaN</td>\n",
       "      <td>2.000000</td>\n",
       "      <td>2017.500000</td>\n",
       "      <td>2014.000000</td>\n",
       "      <td>5.000000</td>\n",
       "      <td>NaN</td>\n",
       "    </tr>\n",
       "    <tr>\n",
       "      <th>75%</th>\n",
       "      <td>18.250000</td>\n",
       "      <td>NaN</td>\n",
       "      <td>99.000000</td>\n",
       "      <td>150.000000</td>\n",
       "      <td>1315.000000</td>\n",
       "      <td>15.100000</td>\n",
       "      <td>72.000000</td>\n",
       "      <td>29.000000</td>\n",
       "      <td>9.250000</td>\n",
       "      <td>5.000000</td>\n",
       "      <td>...</td>\n",
       "      <td>1.000000</td>\n",
       "      <td>16.000000</td>\n",
       "      <td>230.225000</td>\n",
       "      <td>14.825000</td>\n",
       "      <td>NaN</td>\n",
       "      <td>3.000000</td>\n",
       "      <td>2020.000000</td>\n",
       "      <td>2016.000000</td>\n",
       "      <td>7.000000</td>\n",
       "      <td>NaN</td>\n",
       "    </tr>\n",
       "    <tr>\n",
       "      <th>max</th>\n",
       "      <td>24.000000</td>\n",
       "      <td>NaN</td>\n",
       "      <td>149.000000</td>\n",
       "      <td>203.000000</td>\n",
       "      <td>1947.000000</td>\n",
       "      <td>20.900000</td>\n",
       "      <td>98.000000</td>\n",
       "      <td>57.000000</td>\n",
       "      <td>18.000000</td>\n",
       "      <td>59.000000</td>\n",
       "      <td>...</td>\n",
       "      <td>3.000000</td>\n",
       "      <td>17.000000</td>\n",
       "      <td>367.000000</td>\n",
       "      <td>21.600000</td>\n",
       "      <td>NaN</td>\n",
       "      <td>8.000000</td>\n",
       "      <td>2022.000000</td>\n",
       "      <td>2022.000000</td>\n",
       "      <td>14.000000</td>\n",
       "      <td>NaN</td>\n",
       "    </tr>\n",
       "  </tbody>\n",
       "</table>\n",
       "<p>11 rows × 22 columns</p>\n",
       "</div>"
      ],
      "text/plain": [
       "              Rank           Player         REC         TGT          YDS  \\\n",
       "count   240.000000              240  240.000000  240.000000   240.000000   \n",
       "unique         NaN               94         NaN         NaN          NaN   \n",
       "top            NaN  Mike Evans (TB)         NaN         NaN          NaN   \n",
       "freq           NaN                9         NaN         NaN          NaN   \n",
       "mean     12.500000              NaN   87.145833  135.495833  1173.416667   \n",
       "std       6.936653              NaN   17.457407   23.597390   224.257924   \n",
       "min       1.000000              NaN   43.000000   66.000000   593.000000   \n",
       "25%       6.750000              NaN   75.000000  119.000000  1023.000000   \n",
       "50%      12.500000              NaN   85.500000  134.000000  1133.500000   \n",
       "75%      18.250000              NaN   99.000000  150.000000  1315.000000   \n",
       "max      24.000000              NaN  149.000000  203.000000  1947.000000   \n",
       "\n",
       "               Y/R          LG         20+          TD         ATT  ...  \\\n",
       "count   240.000000  240.000000  240.000000  240.000000  240.000000  ...   \n",
       "unique         NaN         NaN         NaN         NaN         NaN  ...   \n",
       "top            NaN         NaN         NaN         NaN         NaN  ...   \n",
       "freq           NaN         NaN         NaN         NaN         NaN  ...   \n",
       "mean     13.663333   61.575000   22.908333    7.891667    3.337500  ...   \n",
       "std       2.172939   14.453887    9.984503    2.956578    5.690652  ...   \n",
       "min       8.600000   28.000000    6.000000    2.000000    0.000000  ...   \n",
       "25%      12.100000   51.000000   16.000000    6.000000    0.000000  ...   \n",
       "50%      13.500000   60.000000   20.000000    8.000000    1.000000  ...   \n",
       "75%      15.100000   72.000000   29.000000    9.250000    5.000000  ...   \n",
       "max      20.900000   98.000000   57.000000   18.000000   59.000000  ...   \n",
       "\n",
       "                FL           G        FPTS      FPTS/G   ROST     DRAFTED  \\\n",
       "count   240.000000  240.000000  240.000000  240.000000    240  240.000000   \n",
       "unique         NaN         NaN         NaN         NaN     54         NaN   \n",
       "top            NaN         NaN         NaN         NaN  0.00%         NaN   \n",
       "freq           NaN         NaN         NaN         NaN     39         NaN   \n",
       "mean      0.587500   15.600000  210.798750   13.555417    NaN    2.550000   \n",
       "std       0.726551    1.085469   37.977887    2.445483    NaN    1.922559   \n",
       "min       0.000000    9.000000  151.900000    9.500000    NaN    1.000000   \n",
       "25%       0.000000   15.000000  181.525000   11.800000    NaN    1.000000   \n",
       "50%       0.000000   16.000000  201.350000   13.000000    NaN    2.000000   \n",
       "75%       1.000000   16.000000  230.225000   14.825000    NaN    3.000000   \n",
       "max       3.000000   17.000000  367.000000   21.600000    NaN    8.000000   \n",
       "\n",
       "               YEAR    YRDrafted  YearInLeague  DraftedTeam  \n",
       "count    240.000000   240.000000    240.000000          240  \n",
       "unique          NaN          NaN           NaN           32  \n",
       "top             NaN          NaN           NaN     Steelers  \n",
       "freq            NaN          NaN           NaN           18  \n",
       "mean    2017.500000  2013.570833      4.929167          NaN  \n",
       "std        2.878284     4.158369      2.747228          NaN  \n",
       "min     2013.000000  2001.000000      1.000000          NaN  \n",
       "25%     2015.000000  2011.000000      3.000000          NaN  \n",
       "50%     2017.500000  2014.000000      5.000000          NaN  \n",
       "75%     2020.000000  2016.000000      7.000000          NaN  \n",
       "max     2022.000000  2022.000000     14.000000          NaN  \n",
       "\n",
       "[11 rows x 22 columns]"
      ]
     },
     "execution_count": 15,
     "metadata": {},
     "output_type": "execute_result"
    }
   ],
   "source": [
    "# back to exploration of data with summary statistics after fixing Cardinal entry\n",
    "nfl_wr_2013_2022.describe(include = 'all')"
   ]
  },
  {
   "cell_type": "code",
   "execution_count": 16,
   "id": "3c022016",
   "metadata": {},
   "outputs": [
    {
     "data": {
      "image/png": "[encoded data removed]",
      "text/plain": [
       "<Figure size 2736x864 with 1 Axes>"
      ]
     },
     "metadata": {
      "needs_background": "light"
     },
     "output_type": "display_data"
    },
    {
     "data": {
      "image/png": "[encoded data removed]",
      "text/plain": [
       "<Figure size 432x288 with 1 Axes>"
      ]
     },
     "metadata": {
      "needs_background": "light"
     },
     "output_type": "display_data"
    },
    {
     "data": {
      "image/png": "[encoded data removed]",
      "text/plain": [
       "<Figure size 432x288 with 1 Axes>"
      ]
     },
     "metadata": {
      "needs_background": "light"
     },
     "output_type": "display_data"
    },
    {
     "data": {
      "text/plain": [
       "<Figure size 432x288 with 0 Axes>"
      ]
     },
     "metadata": {},
     "output_type": "display_data"
    },
    {
     "data": {
      "image/png": "[encoded data removed]",
      "text/plain": [
       "<Figure size 360x360 with 1 Axes>"
      ]
     },
     "metadata": {
      "needs_background": "light"
     },
     "output_type": "display_data"
    },
    {
     "data": {
      "text/plain": [
       "<Figure size 432x288 with 0 Axes>"
      ]
     },
     "metadata": {},
     "output_type": "display_data"
    }
   ],
   "source": [
    "import seaborn as sns\n",
    "\n",
    "plt.figure(figsize = (38,12))\n",
    "plt.bar(nfl_wr_2013_2022.DRAFTED, nfl_wr_2013_2022.YRDrafted)\n",
    "  # rotate value labels to not overlap and increase font size\n",
    "plt.xticks(rotation = 30, fontsize = 15)\n",
    "  # increase variable label font\n",
    "plt.xlabel('Round Drafted')\n",
    "plt.title('Year Drafted')\n",
    "plt.show()\n",
    "plt.clf()\n",
    "\n",
    "plt.hist(nfl_wr_2013_2022.DRAFTED, bins = 8)\n",
    "#plt.hist(exam_scores2, bins = 12, normed = True, histtype = 'step', linewidth = 2)\n",
    "#plt.legend(['1st Yr Teaching', '2nd Yr Teaching'])\n",
    "plt.title('Top 24 WR by Round Drafted 2013 - 2022')\n",
    "plt.xlabel('Round Drafted')\n",
    "plt.ylabel('Frequency')\n",
    "plt.show()\n",
    "plt.clf()\n",
    "\n",
    "sns.boxplot(data = nfl_wr_2013_2022, x = 'DRAFTED')\n",
    "plt.show()\n",
    "plt.title('Round Drafted 2013 - 2022')\n",
    "plt.xlabel('Round Drafted')\n",
    "plt.clf()\n",
    "\n",
    "sns.lmplot(y = 'DRAFTED', x = 'YRDrafted', data = nfl_wr_2013_2022, line_kws={'color': 'black'}, lowess=True)\n",
    "plt.show()\n",
    "plt.clf()"
   ]
  },
  {
   "cell_type": "code",
   "execution_count": 20,
   "id": "b3c92fca",
   "metadata": {},
   "outputs": [
    {
     "data": {
      "image/png": "[encoded data removed]",
      "text/plain": [
       "<Figure size 432x288 with 1 Axes>"
      ]
     },
     "metadata": {
      "needs_background": "light"
     },
     "output_type": "display_data"
    },
    {
     "data": {
      "text/plain": [
       "<Figure size 432x288 with 0 Axes>"
      ]
     },
     "metadata": {},
     "output_type": "display_data"
    }
   ],
   "source": [
    "sns.boxplot(data = nfl_wr_2013_2022, x = 'DRAFTED')\n",
    "plt.show()\n",
    "plt.clf()\n",
    "\n"
   ]
  },
  {
   "cell_type": "code",
   "execution_count": 23,
   "id": "bcd6bcc2",
   "metadata": {},
   "outputs": [
    {
     "ename": "ValueError",
     "evalue": "cannot reindex from a duplicate axis",
     "output_type": "error",
     "traceback": [
      "\u001b[1;31m---------------------------------------------------------------------------\u001b[0m",
      "\u001b[1;31mValueError\u001b[0m                                Traceback (most recent call last)",
      "\u001b[1;32m~\\AppData\\Local\\Temp/ipykernel_14212/109595935.py\u001b[0m in \u001b[0;36m<module>\u001b[1;34m\u001b[0m\n\u001b[1;32m----> 1\u001b[1;33m \u001b[0msns\u001b[0m\u001b[1;33m.\u001b[0m\u001b[0mhistplot\u001b[0m\u001b[1;33m(\u001b[0m\u001b[0mdata\u001b[0m \u001b[1;33m=\u001b[0m \u001b[0mnfl_wr_2013_2022\u001b[0m\u001b[1;33m,\u001b[0m \u001b[0my\u001b[0m \u001b[1;33m=\u001b[0m \u001b[1;34m'REC'\u001b[0m\u001b[1;33m)\u001b[0m\u001b[1;33m\u001b[0m\u001b[1;33m\u001b[0m\u001b[0m\n\u001b[0m\u001b[0;32m      2\u001b[0m \u001b[0mplt\u001b[0m\u001b[1;33m.\u001b[0m\u001b[0mshow\u001b[0m\u001b[1;33m(\u001b[0m\u001b[1;33m)\u001b[0m\u001b[1;33m\u001b[0m\u001b[1;33m\u001b[0m\u001b[0m\n\u001b[0;32m      3\u001b[0m \u001b[0mplt\u001b[0m\u001b[1;33m.\u001b[0m\u001b[0mclf\u001b[0m\u001b[1;33m(\u001b[0m\u001b[1;33m)\u001b[0m\u001b[1;33m\u001b[0m\u001b[1;33m\u001b[0m\u001b[0m\n\u001b[0;32m      4\u001b[0m \u001b[1;33m\u001b[0m\u001b[0m\n",
      "\u001b[1;32m~\\anaconda3\\lib\\site-packages\\seaborn\\distributions.py\u001b[0m in \u001b[0;36mhistplot\u001b[1;34m(data, x, y, hue, weights, stat, bins, binwidth, binrange, discrete, cumulative, common_bins, common_norm, multiple, element, fill, shrink, kde, kde_kws, line_kws, thresh, pthresh, pmax, cbar, cbar_ax, cbar_kws, palette, hue_order, hue_norm, color, log_scale, legend, ax, **kwargs)\u001b[0m\n\u001b[0;32m   1460\u001b[0m     \u001b[1;32mif\u001b[0m \u001b[0mp\u001b[0m\u001b[1;33m.\u001b[0m\u001b[0munivariate\u001b[0m\u001b[1;33m:\u001b[0m\u001b[1;33m\u001b[0m\u001b[1;33m\u001b[0m\u001b[0m\n\u001b[0;32m   1461\u001b[0m \u001b[1;33m\u001b[0m\u001b[0m\n\u001b[1;32m-> 1462\u001b[1;33m         p.plot_univariate_histogram(\n\u001b[0m\u001b[0;32m   1463\u001b[0m             \u001b[0mmultiple\u001b[0m\u001b[1;33m=\u001b[0m\u001b[0mmultiple\u001b[0m\u001b[1;33m,\u001b[0m\u001b[1;33m\u001b[0m\u001b[1;33m\u001b[0m\u001b[0m\n\u001b[0;32m   1464\u001b[0m             \u001b[0melement\u001b[0m\u001b[1;33m=\u001b[0m\u001b[0melement\u001b[0m\u001b[1;33m,\u001b[0m\u001b[1;33m\u001b[0m\u001b[1;33m\u001b[0m\u001b[0m\n",
      "\u001b[1;32m~\\anaconda3\\lib\\site-packages\\seaborn\\distributions.py\u001b[0m in \u001b[0;36mplot_univariate_histogram\u001b[1;34m(self, multiple, element, fill, common_norm, common_bins, shrink, kde, kde_kws, color, legend, line_kws, estimate_kws, **plot_kws)\u001b[0m\n\u001b[0;32m    426\u001b[0m \u001b[1;33m\u001b[0m\u001b[0m\n\u001b[0;32m    427\u001b[0m         \u001b[1;31m# First pass through the data to compute the histograms\u001b[0m\u001b[1;33m\u001b[0m\u001b[1;33m\u001b[0m\u001b[0m\n\u001b[1;32m--> 428\u001b[1;33m         \u001b[1;32mfor\u001b[0m \u001b[0msub_vars\u001b[0m\u001b[1;33m,\u001b[0m \u001b[0msub_data\u001b[0m \u001b[1;32min\u001b[0m \u001b[0mself\u001b[0m\u001b[1;33m.\u001b[0m\u001b[0miter_data\u001b[0m\u001b[1;33m(\u001b[0m\u001b[1;34m\"hue\"\u001b[0m\u001b[1;33m,\u001b[0m \u001b[0mfrom_comp_data\u001b[0m\u001b[1;33m=\u001b[0m\u001b[1;32mTrue\u001b[0m\u001b[1;33m)\u001b[0m\u001b[1;33m:\u001b[0m\u001b[1;33m\u001b[0m\u001b[1;33m\u001b[0m\u001b[0m\n\u001b[0m\u001b[0;32m    429\u001b[0m \u001b[1;33m\u001b[0m\u001b[0m\n\u001b[0;32m    430\u001b[0m             \u001b[1;31m# Prepare the relevant data\u001b[0m\u001b[1;33m\u001b[0m\u001b[1;33m\u001b[0m\u001b[0m\n",
      "\u001b[1;32m~\\anaconda3\\lib\\site-packages\\seaborn\\_core.py\u001b[0m in \u001b[0;36miter_data\u001b[1;34m(self, grouping_vars, reverse, from_comp_data)\u001b[0m\n\u001b[0;32m    981\u001b[0m \u001b[1;33m\u001b[0m\u001b[0m\n\u001b[0;32m    982\u001b[0m         \u001b[1;32mif\u001b[0m \u001b[0mfrom_comp_data\u001b[0m\u001b[1;33m:\u001b[0m\u001b[1;33m\u001b[0m\u001b[1;33m\u001b[0m\u001b[0m\n\u001b[1;32m--> 983\u001b[1;33m             \u001b[0mdata\u001b[0m \u001b[1;33m=\u001b[0m \u001b[0mself\u001b[0m\u001b[1;33m.\u001b[0m\u001b[0mcomp_data\u001b[0m\u001b[1;33m\u001b[0m\u001b[1;33m\u001b[0m\u001b[0m\n\u001b[0m\u001b[0;32m    984\u001b[0m         \u001b[1;32melse\u001b[0m\u001b[1;33m:\u001b[0m\u001b[1;33m\u001b[0m\u001b[1;33m\u001b[0m\u001b[0m\n\u001b[0;32m    985\u001b[0m             \u001b[0mdata\u001b[0m \u001b[1;33m=\u001b[0m \u001b[0mself\u001b[0m\u001b[1;33m.\u001b[0m\u001b[0mplot_data\u001b[0m\u001b[1;33m\u001b[0m\u001b[1;33m\u001b[0m\u001b[0m\n",
      "\u001b[1;32m~\\anaconda3\\lib\\site-packages\\seaborn\\_core.py\u001b[0m in \u001b[0;36mcomp_data\u001b[1;34m(self)\u001b[0m\n\u001b[0;32m   1055\u001b[0m                     \u001b[0morig\u001b[0m \u001b[1;33m=\u001b[0m \u001b[0mself\u001b[0m\u001b[1;33m.\u001b[0m\u001b[0mplot_data\u001b[0m\u001b[1;33m[\u001b[0m\u001b[0mvar\u001b[0m\u001b[1;33m]\u001b[0m\u001b[1;33m.\u001b[0m\u001b[0mdropna\u001b[0m\u001b[1;33m(\u001b[0m\u001b[1;33m)\u001b[0m\u001b[1;33m\u001b[0m\u001b[1;33m\u001b[0m\u001b[0m\n\u001b[0;32m   1056\u001b[0m                 \u001b[0mcomp_col\u001b[0m \u001b[1;33m=\u001b[0m \u001b[0mpd\u001b[0m\u001b[1;33m.\u001b[0m\u001b[0mSeries\u001b[0m\u001b[1;33m(\u001b[0m\u001b[0mindex\u001b[0m\u001b[1;33m=\u001b[0m\u001b[0morig\u001b[0m\u001b[1;33m.\u001b[0m\u001b[0mindex\u001b[0m\u001b[1;33m,\u001b[0m \u001b[0mdtype\u001b[0m\u001b[1;33m=\u001b[0m\u001b[0mfloat\u001b[0m\u001b[1;33m,\u001b[0m \u001b[0mname\u001b[0m\u001b[1;33m=\u001b[0m\u001b[0mvar\u001b[0m\u001b[1;33m)\u001b[0m\u001b[1;33m\u001b[0m\u001b[1;33m\u001b[0m\u001b[0m\n\u001b[1;32m-> 1057\u001b[1;33m                 \u001b[0mcomp_col\u001b[0m\u001b[1;33m.\u001b[0m\u001b[0mloc\u001b[0m\u001b[1;33m[\u001b[0m\u001b[0morig\u001b[0m\u001b[1;33m.\u001b[0m\u001b[0mindex\u001b[0m\u001b[1;33m]\u001b[0m \u001b[1;33m=\u001b[0m \u001b[0mpd\u001b[0m\u001b[1;33m.\u001b[0m\u001b[0mto_numeric\u001b[0m\u001b[1;33m(\u001b[0m\u001b[0maxis\u001b[0m\u001b[1;33m.\u001b[0m\u001b[0mconvert_units\u001b[0m\u001b[1;33m(\u001b[0m\u001b[0morig\u001b[0m\u001b[1;33m)\u001b[0m\u001b[1;33m)\u001b[0m\u001b[1;33m\u001b[0m\u001b[1;33m\u001b[0m\u001b[0m\n\u001b[0m\u001b[0;32m   1058\u001b[0m \u001b[1;33m\u001b[0m\u001b[0m\n\u001b[0;32m   1059\u001b[0m                 \u001b[1;32mif\u001b[0m \u001b[0maxis\u001b[0m\u001b[1;33m.\u001b[0m\u001b[0mget_scale\u001b[0m\u001b[1;33m(\u001b[0m\u001b[1;33m)\u001b[0m \u001b[1;33m==\u001b[0m \u001b[1;34m\"log\"\u001b[0m\u001b[1;33m:\u001b[0m\u001b[1;33m\u001b[0m\u001b[1;33m\u001b[0m\u001b[0m\n",
      "\u001b[1;32m~\\anaconda3\\lib\\site-packages\\pandas\\core\\indexing.py\u001b[0m in \u001b[0;36m__setitem__\u001b[1;34m(self, key, value)\u001b[0m\n\u001b[0;32m    721\u001b[0m \u001b[1;33m\u001b[0m\u001b[0m\n\u001b[0;32m    722\u001b[0m         \u001b[0miloc\u001b[0m \u001b[1;33m=\u001b[0m \u001b[0mself\u001b[0m \u001b[1;32mif\u001b[0m \u001b[0mself\u001b[0m\u001b[1;33m.\u001b[0m\u001b[0mname\u001b[0m \u001b[1;33m==\u001b[0m \u001b[1;34m\"iloc\"\u001b[0m \u001b[1;32melse\u001b[0m \u001b[0mself\u001b[0m\u001b[1;33m.\u001b[0m\u001b[0mobj\u001b[0m\u001b[1;33m.\u001b[0m\u001b[0miloc\u001b[0m\u001b[1;33m\u001b[0m\u001b[1;33m\u001b[0m\u001b[0m\n\u001b[1;32m--> 723\u001b[1;33m         \u001b[0miloc\u001b[0m\u001b[1;33m.\u001b[0m\u001b[0m_setitem_with_indexer\u001b[0m\u001b[1;33m(\u001b[0m\u001b[0mindexer\u001b[0m\u001b[1;33m,\u001b[0m \u001b[0mvalue\u001b[0m\u001b[1;33m,\u001b[0m \u001b[0mself\u001b[0m\u001b[1;33m.\u001b[0m\u001b[0mname\u001b[0m\u001b[1;33m)\u001b[0m\u001b[1;33m\u001b[0m\u001b[1;33m\u001b[0m\u001b[0m\n\u001b[0m\u001b[0;32m    724\u001b[0m \u001b[1;33m\u001b[0m\u001b[0m\n\u001b[0;32m    725\u001b[0m     \u001b[1;32mdef\u001b[0m \u001b[0m_validate_key\u001b[0m\u001b[1;33m(\u001b[0m\u001b[0mself\u001b[0m\u001b[1;33m,\u001b[0m \u001b[0mkey\u001b[0m\u001b[1;33m,\u001b[0m \u001b[0maxis\u001b[0m\u001b[1;33m:\u001b[0m \u001b[0mint\u001b[0m\u001b[1;33m)\u001b[0m\u001b[1;33m:\u001b[0m\u001b[1;33m\u001b[0m\u001b[1;33m\u001b[0m\u001b[0m\n",
      "\u001b[1;32m~\\anaconda3\\lib\\site-packages\\pandas\\core\\indexing.py\u001b[0m in \u001b[0;36m_setitem_with_indexer\u001b[1;34m(self, indexer, value, name)\u001b[0m\n\u001b[0;32m   1730\u001b[0m             \u001b[0mself\u001b[0m\u001b[1;33m.\u001b[0m\u001b[0m_setitem_with_indexer_split_path\u001b[0m\u001b[1;33m(\u001b[0m\u001b[0mindexer\u001b[0m\u001b[1;33m,\u001b[0m \u001b[0mvalue\u001b[0m\u001b[1;33m,\u001b[0m \u001b[0mname\u001b[0m\u001b[1;33m)\u001b[0m\u001b[1;33m\u001b[0m\u001b[1;33m\u001b[0m\u001b[0m\n\u001b[0;32m   1731\u001b[0m         \u001b[1;32melse\u001b[0m\u001b[1;33m:\u001b[0m\u001b[1;33m\u001b[0m\u001b[1;33m\u001b[0m\u001b[0m\n\u001b[1;32m-> 1732\u001b[1;33m             \u001b[0mself\u001b[0m\u001b[1;33m.\u001b[0m\u001b[0m_setitem_single_block\u001b[0m\u001b[1;33m(\u001b[0m\u001b[0mindexer\u001b[0m\u001b[1;33m,\u001b[0m \u001b[0mvalue\u001b[0m\u001b[1;33m,\u001b[0m \u001b[0mname\u001b[0m\u001b[1;33m)\u001b[0m\u001b[1;33m\u001b[0m\u001b[1;33m\u001b[0m\u001b[0m\n\u001b[0m\u001b[0;32m   1733\u001b[0m \u001b[1;33m\u001b[0m\u001b[0m\n\u001b[0;32m   1734\u001b[0m     \u001b[1;32mdef\u001b[0m \u001b[0m_setitem_with_indexer_split_path\u001b[0m\u001b[1;33m(\u001b[0m\u001b[0mself\u001b[0m\u001b[1;33m,\u001b[0m \u001b[0mindexer\u001b[0m\u001b[1;33m,\u001b[0m \u001b[0mvalue\u001b[0m\u001b[1;33m,\u001b[0m \u001b[0mname\u001b[0m\u001b[1;33m:\u001b[0m \u001b[0mstr\u001b[0m\u001b[1;33m)\u001b[0m\u001b[1;33m:\u001b[0m\u001b[1;33m\u001b[0m\u001b[1;33m\u001b[0m\u001b[0m\n",
      "\u001b[1;32m~\\anaconda3\\lib\\site-packages\\pandas\\core\\indexing.py\u001b[0m in \u001b[0;36m_setitem_single_block\u001b[1;34m(self, indexer, value, name)\u001b[0m\n\u001b[0;32m   1957\u001b[0m             \u001b[1;31m# setting for extensionarrays that store dicts. Need to decide\u001b[0m\u001b[1;33m\u001b[0m\u001b[1;33m\u001b[0m\u001b[0m\n\u001b[0;32m   1958\u001b[0m             \u001b[1;31m# if it's worth supporting that.\u001b[0m\u001b[1;33m\u001b[0m\u001b[1;33m\u001b[0m\u001b[0m\n\u001b[1;32m-> 1959\u001b[1;33m             \u001b[0mvalue\u001b[0m \u001b[1;33m=\u001b[0m \u001b[0mself\u001b[0m\u001b[1;33m.\u001b[0m\u001b[0m_align_series\u001b[0m\u001b[1;33m(\u001b[0m\u001b[0mindexer\u001b[0m\u001b[1;33m,\u001b[0m \u001b[0mSeries\u001b[0m\u001b[1;33m(\u001b[0m\u001b[0mvalue\u001b[0m\u001b[1;33m)\u001b[0m\u001b[1;33m)\u001b[0m\u001b[1;33m\u001b[0m\u001b[1;33m\u001b[0m\u001b[0m\n\u001b[0m\u001b[0;32m   1960\u001b[0m \u001b[1;33m\u001b[0m\u001b[0m\n\u001b[0;32m   1961\u001b[0m         \u001b[1;32melif\u001b[0m \u001b[0misinstance\u001b[0m\u001b[1;33m(\u001b[0m\u001b[0mvalue\u001b[0m\u001b[1;33m,\u001b[0m \u001b[0mABCDataFrame\u001b[0m\u001b[1;33m)\u001b[0m \u001b[1;32mand\u001b[0m \u001b[0mname\u001b[0m \u001b[1;33m!=\u001b[0m \u001b[1;34m\"iloc\"\u001b[0m\u001b[1;33m:\u001b[0m\u001b[1;33m\u001b[0m\u001b[1;33m\u001b[0m\u001b[0m\n",
      "\u001b[1;32m~\\anaconda3\\lib\\site-packages\\pandas\\core\\indexing.py\u001b[0m in \u001b[0;36m_align_series\u001b[1;34m(self, indexer, ser, multiindex_indexer)\u001b[0m\n\u001b[0;32m   2094\u001b[0m             \u001b[1;31m# series, so need to broadcast (see GH5206)\u001b[0m\u001b[1;33m\u001b[0m\u001b[1;33m\u001b[0m\u001b[0m\n\u001b[0;32m   2095\u001b[0m             \u001b[1;32mif\u001b[0m \u001b[0msum_aligners\u001b[0m \u001b[1;33m==\u001b[0m \u001b[0mself\u001b[0m\u001b[1;33m.\u001b[0m\u001b[0mndim\u001b[0m \u001b[1;32mand\u001b[0m \u001b[0mall\u001b[0m\u001b[1;33m(\u001b[0m\u001b[0mis_sequence\u001b[0m\u001b[1;33m(\u001b[0m\u001b[0m_\u001b[0m\u001b[1;33m)\u001b[0m \u001b[1;32mfor\u001b[0m \u001b[0m_\u001b[0m \u001b[1;32min\u001b[0m \u001b[0mindexer\u001b[0m\u001b[1;33m)\u001b[0m\u001b[1;33m:\u001b[0m\u001b[1;33m\u001b[0m\u001b[1;33m\u001b[0m\u001b[0m\n\u001b[1;32m-> 2096\u001b[1;33m                 \u001b[0mser\u001b[0m \u001b[1;33m=\u001b[0m \u001b[0mser\u001b[0m\u001b[1;33m.\u001b[0m\u001b[0mreindex\u001b[0m\u001b[1;33m(\u001b[0m\u001b[0mobj\u001b[0m\u001b[1;33m.\u001b[0m\u001b[0maxes\u001b[0m\u001b[1;33m[\u001b[0m\u001b[1;36m0\u001b[0m\u001b[1;33m]\u001b[0m\u001b[1;33m[\u001b[0m\u001b[0mindexer\u001b[0m\u001b[1;33m[\u001b[0m\u001b[1;36m0\u001b[0m\u001b[1;33m]\u001b[0m\u001b[1;33m]\u001b[0m\u001b[1;33m,\u001b[0m \u001b[0mcopy\u001b[0m\u001b[1;33m=\u001b[0m\u001b[1;32mTrue\u001b[0m\u001b[1;33m)\u001b[0m\u001b[1;33m.\u001b[0m\u001b[0m_values\u001b[0m\u001b[1;33m\u001b[0m\u001b[1;33m\u001b[0m\u001b[0m\n\u001b[0m\u001b[0;32m   2097\u001b[0m \u001b[1;33m\u001b[0m\u001b[0m\n\u001b[0;32m   2098\u001b[0m                 \u001b[1;31m# single indexer\u001b[0m\u001b[1;33m\u001b[0m\u001b[1;33m\u001b[0m\u001b[0m\n",
      "\u001b[1;32m~\\anaconda3\\lib\\site-packages\\pandas\\core\\series.py\u001b[0m in \u001b[0;36mreindex\u001b[1;34m(self, index, **kwargs)\u001b[0m\n\u001b[0;32m   4578\u001b[0m     )\n\u001b[0;32m   4579\u001b[0m     \u001b[1;32mdef\u001b[0m \u001b[0mreindex\u001b[0m\u001b[1;33m(\u001b[0m\u001b[0mself\u001b[0m\u001b[1;33m,\u001b[0m \u001b[0mindex\u001b[0m\u001b[1;33m=\u001b[0m\u001b[1;32mNone\u001b[0m\u001b[1;33m,\u001b[0m \u001b[1;33m**\u001b[0m\u001b[0mkwargs\u001b[0m\u001b[1;33m)\u001b[0m\u001b[1;33m:\u001b[0m\u001b[1;33m\u001b[0m\u001b[1;33m\u001b[0m\u001b[0m\n\u001b[1;32m-> 4580\u001b[1;33m         \u001b[1;32mreturn\u001b[0m \u001b[0msuper\u001b[0m\u001b[1;33m(\u001b[0m\u001b[1;33m)\u001b[0m\u001b[1;33m.\u001b[0m\u001b[0mreindex\u001b[0m\u001b[1;33m(\u001b[0m\u001b[0mindex\u001b[0m\u001b[1;33m=\u001b[0m\u001b[0mindex\u001b[0m\u001b[1;33m,\u001b[0m \u001b[1;33m**\u001b[0m\u001b[0mkwargs\u001b[0m\u001b[1;33m)\u001b[0m\u001b[1;33m\u001b[0m\u001b[1;33m\u001b[0m\u001b[0m\n\u001b[0m\u001b[0;32m   4581\u001b[0m \u001b[1;33m\u001b[0m\u001b[0m\n\u001b[0;32m   4582\u001b[0m     \u001b[1;33m@\u001b[0m\u001b[0mdeprecate_nonkeyword_arguments\u001b[0m\u001b[1;33m(\u001b[0m\u001b[0mversion\u001b[0m\u001b[1;33m=\u001b[0m\u001b[1;32mNone\u001b[0m\u001b[1;33m,\u001b[0m \u001b[0mallowed_args\u001b[0m\u001b[1;33m=\u001b[0m\u001b[1;33m[\u001b[0m\u001b[1;34m\"self\"\u001b[0m\u001b[1;33m,\u001b[0m \u001b[1;34m\"labels\"\u001b[0m\u001b[1;33m]\u001b[0m\u001b[1;33m)\u001b[0m\u001b[1;33m\u001b[0m\u001b[1;33m\u001b[0m\u001b[0m\n",
      "\u001b[1;32m~\\anaconda3\\lib\\site-packages\\pandas\\core\\generic.py\u001b[0m in \u001b[0;36mreindex\u001b[1;34m(self, *args, **kwargs)\u001b[0m\n\u001b[0;32m   4816\u001b[0m \u001b[1;33m\u001b[0m\u001b[0m\n\u001b[0;32m   4817\u001b[0m         \u001b[1;31m# perform the reindex on the axes\u001b[0m\u001b[1;33m\u001b[0m\u001b[1;33m\u001b[0m\u001b[0m\n\u001b[1;32m-> 4818\u001b[1;33m         return self._reindex_axes(\n\u001b[0m\u001b[0;32m   4819\u001b[0m             \u001b[0maxes\u001b[0m\u001b[1;33m,\u001b[0m \u001b[0mlevel\u001b[0m\u001b[1;33m,\u001b[0m \u001b[0mlimit\u001b[0m\u001b[1;33m,\u001b[0m \u001b[0mtolerance\u001b[0m\u001b[1;33m,\u001b[0m \u001b[0mmethod\u001b[0m\u001b[1;33m,\u001b[0m \u001b[0mfill_value\u001b[0m\u001b[1;33m,\u001b[0m \u001b[0mcopy\u001b[0m\u001b[1;33m\u001b[0m\u001b[1;33m\u001b[0m\u001b[0m\n\u001b[0;32m   4820\u001b[0m         ).__finalize__(self, method=\"reindex\")\n",
      "\u001b[1;32m~\\anaconda3\\lib\\site-packages\\pandas\\core\\generic.py\u001b[0m in \u001b[0;36m_reindex_axes\u001b[1;34m(self, axes, level, limit, tolerance, method, fill_value, copy)\u001b[0m\n\u001b[0;32m   4837\u001b[0m \u001b[1;33m\u001b[0m\u001b[0m\n\u001b[0;32m   4838\u001b[0m             \u001b[0maxis\u001b[0m \u001b[1;33m=\u001b[0m \u001b[0mself\u001b[0m\u001b[1;33m.\u001b[0m\u001b[0m_get_axis_number\u001b[0m\u001b[1;33m(\u001b[0m\u001b[0ma\u001b[0m\u001b[1;33m)\u001b[0m\u001b[1;33m\u001b[0m\u001b[1;33m\u001b[0m\u001b[0m\n\u001b[1;32m-> 4839\u001b[1;33m             obj = obj._reindex_with_indexers(\n\u001b[0m\u001b[0;32m   4840\u001b[0m                 \u001b[1;33m{\u001b[0m\u001b[0maxis\u001b[0m\u001b[1;33m:\u001b[0m \u001b[1;33m[\u001b[0m\u001b[0mnew_index\u001b[0m\u001b[1;33m,\u001b[0m \u001b[0mindexer\u001b[0m\u001b[1;33m]\u001b[0m\u001b[1;33m}\u001b[0m\u001b[1;33m,\u001b[0m\u001b[1;33m\u001b[0m\u001b[1;33m\u001b[0m\u001b[0m\n\u001b[0;32m   4841\u001b[0m                 \u001b[0mfill_value\u001b[0m\u001b[1;33m=\u001b[0m\u001b[0mfill_value\u001b[0m\u001b[1;33m,\u001b[0m\u001b[1;33m\u001b[0m\u001b[1;33m\u001b[0m\u001b[0m\n",
      "\u001b[1;32m~\\anaconda3\\lib\\site-packages\\pandas\\core\\generic.py\u001b[0m in \u001b[0;36m_reindex_with_indexers\u001b[1;34m(self, reindexers, fill_value, copy, allow_dups)\u001b[0m\n\u001b[0;32m   4881\u001b[0m \u001b[1;33m\u001b[0m\u001b[0m\n\u001b[0;32m   4882\u001b[0m             \u001b[1;31m# TODO: speed up on homogeneous DataFrame objects\u001b[0m\u001b[1;33m\u001b[0m\u001b[1;33m\u001b[0m\u001b[0m\n\u001b[1;32m-> 4883\u001b[1;33m             new_data = new_data.reindex_indexer(\n\u001b[0m\u001b[0;32m   4884\u001b[0m                 \u001b[0mindex\u001b[0m\u001b[1;33m,\u001b[0m\u001b[1;33m\u001b[0m\u001b[1;33m\u001b[0m\u001b[0m\n\u001b[0;32m   4885\u001b[0m                 \u001b[0mindexer\u001b[0m\u001b[1;33m,\u001b[0m\u001b[1;33m\u001b[0m\u001b[1;33m\u001b[0m\u001b[0m\n",
      "\u001b[1;32m~\\anaconda3\\lib\\site-packages\\pandas\\core\\internals\\managers.py\u001b[0m in \u001b[0;36mreindex_indexer\u001b[1;34m(self, new_axis, indexer, axis, fill_value, allow_dups, copy, consolidate, only_slice)\u001b[0m\n\u001b[0;32m    668\u001b[0m         \u001b[1;31m# some axes don't allow reindexing with dups\u001b[0m\u001b[1;33m\u001b[0m\u001b[1;33m\u001b[0m\u001b[0m\n\u001b[0;32m    669\u001b[0m         \u001b[1;32mif\u001b[0m \u001b[1;32mnot\u001b[0m \u001b[0mallow_dups\u001b[0m\u001b[1;33m:\u001b[0m\u001b[1;33m\u001b[0m\u001b[1;33m\u001b[0m\u001b[0m\n\u001b[1;32m--> 670\u001b[1;33m             \u001b[0mself\u001b[0m\u001b[1;33m.\u001b[0m\u001b[0maxes\u001b[0m\u001b[1;33m[\u001b[0m\u001b[0maxis\u001b[0m\u001b[1;33m]\u001b[0m\u001b[1;33m.\u001b[0m\u001b[0m_validate_can_reindex\u001b[0m\u001b[1;33m(\u001b[0m\u001b[0mindexer\u001b[0m\u001b[1;33m)\u001b[0m\u001b[1;33m\u001b[0m\u001b[1;33m\u001b[0m\u001b[0m\n\u001b[0m\u001b[0;32m    671\u001b[0m \u001b[1;33m\u001b[0m\u001b[0m\n\u001b[0;32m    672\u001b[0m         \u001b[1;32mif\u001b[0m \u001b[0maxis\u001b[0m \u001b[1;33m>=\u001b[0m \u001b[0mself\u001b[0m\u001b[1;33m.\u001b[0m\u001b[0mndim\u001b[0m\u001b[1;33m:\u001b[0m\u001b[1;33m\u001b[0m\u001b[1;33m\u001b[0m\u001b[0m\n",
      "\u001b[1;32m~\\anaconda3\\lib\\site-packages\\pandas\\core\\indexes\\base.py\u001b[0m in \u001b[0;36m_validate_can_reindex\u001b[1;34m(self, indexer)\u001b[0m\n\u001b[0;32m   3783\u001b[0m         \u001b[1;31m# trying to reindex on an axis with duplicates\u001b[0m\u001b[1;33m\u001b[0m\u001b[1;33m\u001b[0m\u001b[0m\n\u001b[0;32m   3784\u001b[0m         \u001b[1;32mif\u001b[0m \u001b[1;32mnot\u001b[0m \u001b[0mself\u001b[0m\u001b[1;33m.\u001b[0m\u001b[0m_index_as_unique\u001b[0m \u001b[1;32mand\u001b[0m \u001b[0mlen\u001b[0m\u001b[1;33m(\u001b[0m\u001b[0mindexer\u001b[0m\u001b[1;33m)\u001b[0m\u001b[1;33m:\u001b[0m\u001b[1;33m\u001b[0m\u001b[1;33m\u001b[0m\u001b[0m\n\u001b[1;32m-> 3785\u001b[1;33m             \u001b[1;32mraise\u001b[0m \u001b[0mValueError\u001b[0m\u001b[1;33m(\u001b[0m\u001b[1;34m\"cannot reindex from a duplicate axis\"\u001b[0m\u001b[1;33m)\u001b[0m\u001b[1;33m\u001b[0m\u001b[1;33m\u001b[0m\u001b[0m\n\u001b[0m\u001b[0;32m   3786\u001b[0m \u001b[1;33m\u001b[0m\u001b[0m\n\u001b[0;32m   3787\u001b[0m     def reindex(\n",
      "\u001b[1;31mValueError\u001b[0m: cannot reindex from a duplicate axis"
     ]
    },
    {
     "data": {
      "image/png": "[encoded data removed]",
      "text/plain": [
       "<Figure size 432x288 with 1 Axes>"
      ]
     },
     "metadata": {
      "needs_background": "light"
     },
     "output_type": "display_data"
    }
   ],
   "source": [
    "sns.histplot(data = nfl_wr_2013_2022, y = 'REC')\n",
    "plt.show()\n",
    "plt.clf()\n",
    "\n"
   ]
  },
  {
   "cell_type": "code",
   "execution_count": 25,
   "id": "4e47b0a8",
   "metadata": {},
   "outputs": [
    {
     "data": {
      "text/plain": [
       "Index(['Rank', 'Player', 'REC', 'TGT', 'YDS', 'Y/R', 'LG', '20+', 'TD', 'ATT',\n",
       "       'YDS.1', 'TD.1', 'FL', 'G', 'FPTS', 'FPTS/G', 'ROST', 'DRAFTED', 'YEAR',\n",
       "       'YRDrafted', 'YearInLeague', 'DraftedTeam'],\n",
       "      dtype='object')"
      ]
     },
     "execution_count": 25,
     "metadata": {},
     "output_type": "execute_result"
    }
   ],
   "source": [
    "nfl_wr_2013_2022.columns"
   ]
  },
  {
   "cell_type": "code",
   "execution_count": 28,
   "id": "f967f20f",
   "metadata": {},
   "outputs": [
    {
     "data": {
      "text/html": [
       "<div>\n",
       "<style scoped>\n",
       "    .dataframe tbody tr th:only-of-type {\n",
       "        vertical-align: middle;\n",
       "    }\n",
       "\n",
       "    .dataframe tbody tr th {\n",
       "        vertical-align: top;\n",
       "    }\n",
       "\n",
       "    .dataframe thead th {\n",
       "        text-align: right;\n",
       "    }\n",
       "</style>\n",
       "<table border=\"1\" class=\"dataframe\">\n",
       "  <thead>\n",
       "    <tr style=\"text-align: right;\">\n",
       "      <th></th>\n",
       "      <th>Rank</th>\n",
       "      <th>Player</th>\n",
       "      <th>REC</th>\n",
       "      <th>TGT</th>\n",
       "      <th>YDS</th>\n",
       "      <th>Y/R</th>\n",
       "      <th>LG</th>\n",
       "      <th>20+</th>\n",
       "      <th>TD</th>\n",
       "      <th>ATT</th>\n",
       "      <th>...</th>\n",
       "      <th>FL</th>\n",
       "      <th>G</th>\n",
       "      <th>FPTS</th>\n",
       "      <th>FPTS/G</th>\n",
       "      <th>ROST</th>\n",
       "      <th>DRAFTED</th>\n",
       "      <th>YEAR</th>\n",
       "      <th>YRDrafted</th>\n",
       "      <th>YearInLeague</th>\n",
       "      <th>DraftedTeam</th>\n",
       "    </tr>\n",
       "  </thead>\n",
       "  <tbody>\n",
       "    <tr>\n",
       "      <th>0</th>\n",
       "      <td>1</td>\n",
       "      <td>Antonio Brown (FA)</td>\n",
       "      <td>129</td>\n",
       "      <td>181</td>\n",
       "      <td>1698</td>\n",
       "      <td>13.2</td>\n",
       "      <td>63</td>\n",
       "      <td>19</td>\n",
       "      <td>13</td>\n",
       "      <td>4</td>\n",
       "      <td>...</td>\n",
       "      <td>2</td>\n",
       "      <td>16</td>\n",
       "      <td>316.4</td>\n",
       "      <td>19.8</td>\n",
       "      <td>0.30%</td>\n",
       "      <td>6</td>\n",
       "      <td>2014</td>\n",
       "      <td>2010</td>\n",
       "      <td>5</td>\n",
       "      <td>Steelers</td>\n",
       "    </tr>\n",
       "    <tr>\n",
       "      <th>1</th>\n",
       "      <td>2</td>\n",
       "      <td>Demaryius Thomas (FA)</td>\n",
       "      <td>111</td>\n",
       "      <td>184</td>\n",
       "      <td>1619</td>\n",
       "      <td>14.6</td>\n",
       "      <td>86</td>\n",
       "      <td>25</td>\n",
       "      <td>11</td>\n",
       "      <td>0</td>\n",
       "      <td>...</td>\n",
       "      <td>0</td>\n",
       "      <td>16</td>\n",
       "      <td>285.4</td>\n",
       "      <td>17.8</td>\n",
       "      <td>0.10%</td>\n",
       "      <td>1</td>\n",
       "      <td>2014</td>\n",
       "      <td>2010</td>\n",
       "      <td>5</td>\n",
       "      <td>Broncos</td>\n",
       "    </tr>\n",
       "    <tr>\n",
       "      <th>2</th>\n",
       "      <td>3</td>\n",
       "      <td>Jordy Nelson (FA)</td>\n",
       "      <td>98</td>\n",
       "      <td>151</td>\n",
       "      <td>1519</td>\n",
       "      <td>15.5</td>\n",
       "      <td>80</td>\n",
       "      <td>19</td>\n",
       "      <td>13</td>\n",
       "      <td>0</td>\n",
       "      <td>...</td>\n",
       "      <td>0</td>\n",
       "      <td>16</td>\n",
       "      <td>278.9</td>\n",
       "      <td>17.4</td>\n",
       "      <td>0.10%</td>\n",
       "      <td>2</td>\n",
       "      <td>2014</td>\n",
       "      <td>2008</td>\n",
       "      <td>7</td>\n",
       "      <td>Packers</td>\n",
       "    </tr>\n",
       "    <tr>\n",
       "      <th>3</th>\n",
       "      <td>4</td>\n",
       "      <td>Dez Bryant (FA)</td>\n",
       "      <td>88</td>\n",
       "      <td>137</td>\n",
       "      <td>1320</td>\n",
       "      <td>15.0</td>\n",
       "      <td>68</td>\n",
       "      <td>22</td>\n",
       "      <td>16</td>\n",
       "      <td>0</td>\n",
       "      <td>...</td>\n",
       "      <td>0</td>\n",
       "      <td>16</td>\n",
       "      <td>272.0</td>\n",
       "      <td>17.0</td>\n",
       "      <td>2.60%</td>\n",
       "      <td>1</td>\n",
       "      <td>2014</td>\n",
       "      <td>2010</td>\n",
       "      <td>5</td>\n",
       "      <td>Cowboys</td>\n",
       "    </tr>\n",
       "    <tr>\n",
       "      <th>4</th>\n",
       "      <td>5</td>\n",
       "      <td>Emmanuel Sanders (FA)</td>\n",
       "      <td>101</td>\n",
       "      <td>141</td>\n",
       "      <td>1404</td>\n",
       "      <td>13.9</td>\n",
       "      <td>48</td>\n",
       "      <td>24</td>\n",
       "      <td>9</td>\n",
       "      <td>8</td>\n",
       "      <td>...</td>\n",
       "      <td>0</td>\n",
       "      <td>16</td>\n",
       "      <td>251.3</td>\n",
       "      <td>15.7</td>\n",
       "      <td>0.00%</td>\n",
       "      <td>3</td>\n",
       "      <td>2014</td>\n",
       "      <td>2010</td>\n",
       "      <td>5</td>\n",
       "      <td>Steelers</td>\n",
       "    </tr>\n",
       "    <tr>\n",
       "      <th>...</th>\n",
       "      <td>...</td>\n",
       "      <td>...</td>\n",
       "      <td>...</td>\n",
       "      <td>...</td>\n",
       "      <td>...</td>\n",
       "      <td>...</td>\n",
       "      <td>...</td>\n",
       "      <td>...</td>\n",
       "      <td>...</td>\n",
       "      <td>...</td>\n",
       "      <td>...</td>\n",
       "      <td>...</td>\n",
       "      <td>...</td>\n",
       "      <td>...</td>\n",
       "      <td>...</td>\n",
       "      <td>...</td>\n",
       "      <td>...</td>\n",
       "      <td>...</td>\n",
       "      <td>...</td>\n",
       "      <td>...</td>\n",
       "      <td>...</td>\n",
       "    </tr>\n",
       "    <tr>\n",
       "      <th>19</th>\n",
       "      <td>20</td>\n",
       "      <td>Chris Godwin (TB)</td>\n",
       "      <td>104</td>\n",
       "      <td>142</td>\n",
       "      <td>1023</td>\n",
       "      <td>9.8</td>\n",
       "      <td>44</td>\n",
       "      <td>13</td>\n",
       "      <td>3</td>\n",
       "      <td>3</td>\n",
       "      <td>...</td>\n",
       "      <td>2</td>\n",
       "      <td>15</td>\n",
       "      <td>170.8</td>\n",
       "      <td>11.4</td>\n",
       "      <td>93.80%</td>\n",
       "      <td>3</td>\n",
       "      <td>2022</td>\n",
       "      <td>2017</td>\n",
       "      <td>6</td>\n",
       "      <td>Buccaneers</td>\n",
       "    </tr>\n",
       "    <tr>\n",
       "      <th>20</th>\n",
       "      <td>21</td>\n",
       "      <td>Jerry Jeudy (DEN)</td>\n",
       "      <td>67</td>\n",
       "      <td>100</td>\n",
       "      <td>972</td>\n",
       "      <td>14.5</td>\n",
       "      <td>67</td>\n",
       "      <td>31</td>\n",
       "      <td>6</td>\n",
       "      <td>4</td>\n",
       "      <td>...</td>\n",
       "      <td>0</td>\n",
       "      <td>15</td>\n",
       "      <td>170.7</td>\n",
       "      <td>11.4</td>\n",
       "      <td>90.40%</td>\n",
       "      <td>1</td>\n",
       "      <td>2022</td>\n",
       "      <td>2020</td>\n",
       "      <td>3</td>\n",
       "      <td>Broncos</td>\n",
       "    </tr>\n",
       "    <tr>\n",
       "      <th>21</th>\n",
       "      <td>22</td>\n",
       "      <td>DJ Moore (CHI)</td>\n",
       "      <td>63</td>\n",
       "      <td>118</td>\n",
       "      <td>888</td>\n",
       "      <td>14.1</td>\n",
       "      <td>62</td>\n",
       "      <td>27</td>\n",
       "      <td>7</td>\n",
       "      <td>10</td>\n",
       "      <td>...</td>\n",
       "      <td>0</td>\n",
       "      <td>17</td>\n",
       "      <td>167.6</td>\n",
       "      <td>9.9</td>\n",
       "      <td>91.70%</td>\n",
       "      <td>1</td>\n",
       "      <td>2022</td>\n",
       "      <td>2018</td>\n",
       "      <td>5</td>\n",
       "      <td>Panthers</td>\n",
       "    </tr>\n",
       "    <tr>\n",
       "      <th>22</th>\n",
       "      <td>23</td>\n",
       "      <td>Michael Pittman Jr. (IND)</td>\n",
       "      <td>99</td>\n",
       "      <td>141</td>\n",
       "      <td>925</td>\n",
       "      <td>9.3</td>\n",
       "      <td>28</td>\n",
       "      <td>8</td>\n",
       "      <td>4</td>\n",
       "      <td>3</td>\n",
       "      <td>...</td>\n",
       "      <td>1</td>\n",
       "      <td>16</td>\n",
       "      <td>167.0</td>\n",
       "      <td>10.4</td>\n",
       "      <td>95.60%</td>\n",
       "      <td>2</td>\n",
       "      <td>2022</td>\n",
       "      <td>2020</td>\n",
       "      <td>3</td>\n",
       "      <td>Colts</td>\n",
       "    </tr>\n",
       "    <tr>\n",
       "      <th>23</th>\n",
       "      <td>24</td>\n",
       "      <td>Cooper Kupp (LAR)</td>\n",
       "      <td>75</td>\n",
       "      <td>98</td>\n",
       "      <td>812</td>\n",
       "      <td>10.8</td>\n",
       "      <td>75</td>\n",
       "      <td>18</td>\n",
       "      <td>6</td>\n",
       "      <td>9</td>\n",
       "      <td>...</td>\n",
       "      <td>1</td>\n",
       "      <td>9</td>\n",
       "      <td>163.9</td>\n",
       "      <td>18.2</td>\n",
       "      <td>87.30%</td>\n",
       "      <td>3</td>\n",
       "      <td>2022</td>\n",
       "      <td>2017</td>\n",
       "      <td>6</td>\n",
       "      <td>Rams</td>\n",
       "    </tr>\n",
       "  </tbody>\n",
       "</table>\n",
       "<p>216 rows × 22 columns</p>\n",
       "</div>"
      ],
      "text/plain": [
       "    Rank                     Player  REC  TGT   YDS   Y/R  LG  20+  TD  ATT  \\\n",
       "0      1         Antonio Brown (FA)  129  181  1698  13.2  63   19  13    4   \n",
       "1      2      Demaryius Thomas (FA)  111  184  1619  14.6  86   25  11    0   \n",
       "2      3          Jordy Nelson (FA)   98  151  1519  15.5  80   19  13    0   \n",
       "3      4            Dez Bryant (FA)   88  137  1320  15.0  68   22  16    0   \n",
       "4      5      Emmanuel Sanders (FA)  101  141  1404  13.9  48   24   9    8   \n",
       "..   ...                        ...  ...  ...   ...   ...  ..  ...  ..  ...   \n",
       "19    20          Chris Godwin (TB)  104  142  1023   9.8  44   13   3    3   \n",
       "20    21          Jerry Jeudy (DEN)   67  100   972  14.5  67   31   6    4   \n",
       "21    22             DJ Moore (CHI)   63  118   888  14.1  62   27   7   10   \n",
       "22    23  Michael Pittman Jr. (IND)   99  141   925   9.3  28    8   4    3   \n",
       "23    24          Cooper Kupp (LAR)   75   98   812  10.8  75   18   6    9   \n",
       "\n",
       "    ...  FL   G   FPTS  FPTS/G    ROST  DRAFTED  YEAR  YRDrafted  \\\n",
       "0   ...   2  16  316.4    19.8   0.30%        6  2014       2010   \n",
       "1   ...   0  16  285.4    17.8   0.10%        1  2014       2010   \n",
       "2   ...   0  16  278.9    17.4   0.10%        2  2014       2008   \n",
       "3   ...   0  16  272.0    17.0   2.60%        1  2014       2010   \n",
       "4   ...   0  16  251.3    15.7   0.00%        3  2014       2010   \n",
       "..  ...  ..  ..    ...     ...     ...      ...   ...        ...   \n",
       "19  ...   2  15  170.8    11.4  93.80%        3  2022       2017   \n",
       "20  ...   0  15  170.7    11.4  90.40%        1  2022       2020   \n",
       "21  ...   0  17  167.6     9.9  91.70%        1  2022       2018   \n",
       "22  ...   1  16  167.0    10.4  95.60%        2  2022       2020   \n",
       "23  ...   1   9  163.9    18.2  87.30%        3  2022       2017   \n",
       "\n",
       "    YearInLeague  DraftedTeam  \n",
       "0              5     Steelers  \n",
       "1              5      Broncos  \n",
       "2              7      Packers  \n",
       "3              5      Cowboys  \n",
       "4              5     Steelers  \n",
       "..           ...          ...  \n",
       "19             6   Buccaneers  \n",
       "20             3      Broncos  \n",
       "21             5     Panthers  \n",
       "22             3        Colts  \n",
       "23             6         Rams  \n",
       "\n",
       "[216 rows x 22 columns]"
      ]
     },
     "execution_count": 28,
     "metadata": {},
     "output_type": "execute_result"
    }
   ],
   "source": [
    "nfl_wr_2013_2022[nfl_wr_2013_2022.index.duplicated()]"
   ]
  },
  {
   "cell_type": "code",
   "execution_count": 30,
   "id": "b9135bf6",
   "metadata": {},
   "outputs": [
    {
     "data": {
      "image/png": "[encoded data removed]",
      "text/plain": [
       "<Figure size 432x288 with 1 Axes>"
      ]
     },
     "metadata": {
      "needs_background": "light"
     },
     "output_type": "display_data"
    },
    {
     "data": {
      "text/plain": [
       "<Figure size 432x288 with 0 Axes>"
      ]
     },
     "metadata": {},
     "output_type": "display_data"
    }
   ],
   "source": [
    "# above error caused by multiple receivers making the top 24 in multiple years. This is causing the seaborn sns plot to seem them as duplicated values, which made it so it could not plot\n",
    "Round_Drafted = nfl_wr_2013_2022['DRAFTED']\n",
    "\n",
    "sns.histplot(data = Round_Drafted)\n",
    "plt.show()\n",
    "plt.clf()"
   ]
  },
  {
   "cell_type": "code",
   "execution_count": 86,
   "id": "6ac76593",
   "metadata": {},
   "outputs": [
    {
     "data": {
      "image/png": "[encoded data removed]",
      "text/plain": [
       "<Figure size 432x288 with 1 Axes>"
      ]
     },
     "metadata": {
      "needs_background": "light"
     },
     "output_type": "display_data"
    },
    {
     "data": {
      "text/plain": [
       "<Figure size 432x288 with 0 Axes>"
      ]
     },
     "metadata": {},
     "output_type": "display_data"
    }
   ],
   "source": [
    "Year_in_League = nfl_wr_2013_2022['YearInLeague']\n",
    "\n",
    "sns.histplot(data = Year_in_League)\n",
    "plt.show()\n",
    "plt.clf()"
   ]
  },
  {
   "cell_type": "code",
   "execution_count": 38,
   "id": "80457f3e",
   "metadata": {},
   "outputs": [
    {
     "data": {
      "text/plain": [
       "94"
      ]
     },
     "execution_count": 38,
     "metadata": {},
     "output_type": "execute_result"
    }
   ],
   "source": [
    "len(nfl_wr_2013_2022.Player.unique())"
   ]
  },
  {
   "cell_type": "code",
   "execution_count": 39,
   "id": "e3a6e8d7",
   "metadata": {},
   "outputs": [
    {
     "data": {
      "text/plain": [
       "33"
      ]
     },
     "execution_count": 39,
     "metadata": {},
     "output_type": "execute_result"
    }
   ],
   "source": [
    "len(nfl_wr_2013_2022.Player[nfl_wr_2013_2022.DRAFTED == 1].unique())"
   ]
  },
  {
   "cell_type": "code",
   "execution_count": 48,
   "id": "af242a45",
   "metadata": {},
   "outputs": [
    {
     "data": {
      "text/plain": [
       "92"
      ]
     },
     "execution_count": 48,
     "metadata": {},
     "output_type": "execute_result"
    }
   ],
   "source": [
    "len(nfl_wr_2013_2022.Player[nfl_wr_2013_2022.DRAFTED == 1])"
   ]
  },
  {
   "cell_type": "code",
   "execution_count": 40,
   "id": "602dfe7a",
   "metadata": {},
   "outputs": [
    {
     "data": {
      "text/plain": [
       "27"
      ]
     },
     "execution_count": 40,
     "metadata": {},
     "output_type": "execute_result"
    }
   ],
   "source": [
    "len(nfl_wr_2013_2022.Player[nfl_wr_2013_2022.DRAFTED == 2].unique())"
   ]
  },
  {
   "cell_type": "code",
   "execution_count": 50,
   "id": "f70cc963",
   "metadata": {},
   "outputs": [
    {
     "data": {
      "text/plain": [
       "61"
      ]
     },
     "execution_count": 50,
     "metadata": {},
     "output_type": "execute_result"
    }
   ],
   "source": [
    "len(nfl_wr_2013_2022.Player[nfl_wr_2013_2022.DRAFTED == 2])"
   ]
  },
  {
   "cell_type": "code",
   "execution_count": 42,
   "id": "679c933b",
   "metadata": {},
   "outputs": [
    {
     "data": {
      "text/plain": [
       "16"
      ]
     },
     "execution_count": 42,
     "metadata": {},
     "output_type": "execute_result"
    }
   ],
   "source": [
    "len(nfl_wr_2013_2022.Player[nfl_wr_2013_2022.DRAFTED == 3].unique())"
   ]
  },
  {
   "cell_type": "code",
   "execution_count": 51,
   "id": "e088bc03",
   "metadata": {},
   "outputs": [
    {
     "data": {
      "text/plain": [
       "42"
      ]
     },
     "execution_count": 51,
     "metadata": {},
     "output_type": "execute_result"
    }
   ],
   "source": [
    "len(nfl_wr_2013_2022.Player[nfl_wr_2013_2022.DRAFTED == 3])"
   ]
  },
  {
   "cell_type": "code",
   "execution_count": 43,
   "id": "d2aa9610",
   "metadata": {},
   "outputs": [
    {
     "data": {
      "text/plain": [
       "3"
      ]
     },
     "execution_count": 43,
     "metadata": {},
     "output_type": "execute_result"
    }
   ],
   "source": [
    "len(nfl_wr_2013_2022.Player[nfl_wr_2013_2022.DRAFTED == 4].unique())"
   ]
  },
  {
   "cell_type": "code",
   "execution_count": 52,
   "id": "4b95a5fa",
   "metadata": {},
   "outputs": [
    {
     "data": {
      "text/plain": [
       "5"
      ]
     },
     "execution_count": 52,
     "metadata": {},
     "output_type": "execute_result"
    }
   ],
   "source": [
    "len(nfl_wr_2013_2022.Player[nfl_wr_2013_2022.DRAFTED == 4])"
   ]
  },
  {
   "cell_type": "code",
   "execution_count": 44,
   "id": "73f5cd40",
   "metadata": {},
   "outputs": [
    {
     "data": {
      "text/plain": [
       "5"
      ]
     },
     "execution_count": 44,
     "metadata": {},
     "output_type": "execute_result"
    }
   ],
   "source": [
    "len(nfl_wr_2013_2022.Player[nfl_wr_2013_2022.DRAFTED == 5].unique())"
   ]
  },
  {
   "cell_type": "code",
   "execution_count": 53,
   "id": "92a196d8",
   "metadata": {},
   "outputs": [
    {
     "data": {
      "text/plain": [
       "16"
      ]
     },
     "execution_count": 53,
     "metadata": {},
     "output_type": "execute_result"
    }
   ],
   "source": [
    "len(nfl_wr_2013_2022.Player[nfl_wr_2013_2022.DRAFTED == 5])"
   ]
  },
  {
   "cell_type": "code",
   "execution_count": 45,
   "id": "89717a8c",
   "metadata": {},
   "outputs": [
    {
     "data": {
      "text/plain": [
       "2"
      ]
     },
     "execution_count": 45,
     "metadata": {},
     "output_type": "execute_result"
    }
   ],
   "source": [
    "len(nfl_wr_2013_2022.Player[nfl_wr_2013_2022.DRAFTED == 6].unique())"
   ]
  },
  {
   "cell_type": "code",
   "execution_count": 54,
   "id": "900b7ee9",
   "metadata": {},
   "outputs": [
    {
     "data": {
      "text/plain": [
       "7"
      ]
     },
     "execution_count": 54,
     "metadata": {},
     "output_type": "execute_result"
    }
   ],
   "source": [
    "len(nfl_wr_2013_2022.Player[nfl_wr_2013_2022.DRAFTED == 6])"
   ]
  },
  {
   "cell_type": "code",
   "execution_count": 46,
   "id": "51e86988",
   "metadata": {},
   "outputs": [
    {
     "data": {
      "text/plain": [
       "2"
      ]
     },
     "execution_count": 46,
     "metadata": {},
     "output_type": "execute_result"
    }
   ],
   "source": [
    "len(nfl_wr_2013_2022.Player[nfl_wr_2013_2022.DRAFTED == 7].unique())"
   ]
  },
  {
   "cell_type": "code",
   "execution_count": 55,
   "id": "ad6dd6c0",
   "metadata": {},
   "outputs": [
    {
     "data": {
      "text/plain": [
       "6"
      ]
     },
     "execution_count": 55,
     "metadata": {},
     "output_type": "execute_result"
    }
   ],
   "source": [
    "len(nfl_wr_2013_2022.Player[nfl_wr_2013_2022.DRAFTED == 7])"
   ]
  },
  {
   "cell_type": "code",
   "execution_count": 47,
   "id": "40e96ce5",
   "metadata": {},
   "outputs": [
    {
     "data": {
      "text/plain": [
       "6"
      ]
     },
     "execution_count": 47,
     "metadata": {},
     "output_type": "execute_result"
    }
   ],
   "source": [
    "len(nfl_wr_2013_2022.Player[nfl_wr_2013_2022.DRAFTED == 8].unique())"
   ]
  },
  {
   "cell_type": "code",
   "execution_count": 56,
   "id": "a51b9c42",
   "metadata": {},
   "outputs": [
    {
     "data": {
      "text/plain": [
       "11"
      ]
     },
     "execution_count": 56,
     "metadata": {},
     "output_type": "execute_result"
    }
   ],
   "source": [
    "len(nfl_wr_2013_2022.Player[nfl_wr_2013_2022.DRAFTED == 8])"
   ]
  },
  {
   "cell_type": "code",
   "execution_count": 58,
   "id": "9d32906c",
   "metadata": {},
   "outputs": [
    {
     "data": {
      "text/plain": [
       "['Adam Thielen (CAR)',\n",
       " 'Adam Thielen (CAR)',\n",
       " 'Adam Thielen (CAR)',\n",
       " 'Allen Hurns (FA)',\n",
       " 'Chosen Anderson (MIA)',\n",
       " 'Chosen Anderson (MIA)',\n",
       " 'Doug Baldwin (FA)',\n",
       " 'Doug Baldwin (FA)',\n",
       " 'Doug Baldwin (FA)',\n",
       " 'Tyrell Williams (FA)',\n",
       " 'Wes Welker (FA)']"
      ]
     },
     "execution_count": 58,
     "metadata": {},
     "output_type": "execute_result"
    }
   ],
   "source": [
    "sorted(nfl_wr_2013_2022.Player[nfl_wr_2013_2022.DRAFTED == 8])"
   ]
  },
  {
   "cell_type": "code",
   "execution_count": 59,
   "id": "f6d5852e",
   "metadata": {},
   "outputs": [
    {
     "data": {
      "text/plain": [
       "['A.J. Green (FA)',\n",
       " 'A.J. Green (FA)',\n",
       " 'A.J. Green (FA)',\n",
       " 'A.J. Green (FA)',\n",
       " 'Amari Cooper (CLE)',\n",
       " 'Amari Cooper (CLE)',\n",
       " 'Amari Cooper (CLE)',\n",
       " 'Amari Cooper (CLE)',\n",
       " 'Amari Cooper (CLE)',\n",
       " 'Amari Cooper (CLE)',\n",
       " 'Andre Johnson (FA)',\n",
       " 'Brandin Cooks (DAL)',\n",
       " 'Brandin Cooks (DAL)',\n",
       " 'Brandin Cooks (DAL)',\n",
       " 'Brandin Cooks (DAL)',\n",
       " 'Brandin Cooks (DAL)',\n",
       " 'Brandin Cooks (DAL)',\n",
       " 'Brandon Aiyuk (SF)',\n",
       " 'Calvin Johnson (FA)',\n",
       " 'Calvin Johnson (FA)',\n",
       " 'Calvin Johnson (FA)',\n",
       " 'Calvin Ridley (JAC)',\n",
       " 'Calvin Ridley (JAC)',\n",
       " 'CeeDee Lamb (DAL)',\n",
       " 'CeeDee Lamb (DAL)',\n",
       " 'CeeDee Lamb (DAL)',\n",
       " 'DJ Moore (CHI)',\n",
       " 'DJ Moore (CHI)',\n",
       " 'DJ Moore (CHI)',\n",
       " 'DJ Moore (CHI)',\n",
       " 'DeAndre Hopkins (ARI)',\n",
       " 'DeAndre Hopkins (ARI)',\n",
       " 'DeAndre Hopkins (ARI)',\n",
       " 'DeAndre Hopkins (ARI)',\n",
       " 'DeAndre Hopkins (ARI)',\n",
       " 'DeAndre Hopkins (ARI)',\n",
       " 'DeVante Parker (NE)',\n",
       " 'DeVonta Smith (PHI)',\n",
       " 'Demaryius Thomas (FA)',\n",
       " 'Demaryius Thomas (FA)',\n",
       " 'Demaryius Thomas (FA)',\n",
       " 'Demaryius Thomas (FA)',\n",
       " 'Demaryius Thomas (FA)',\n",
       " 'Dez Bryant (FA)',\n",
       " 'Dez Bryant (FA)',\n",
       " 'Dez Bryant (FA)',\n",
       " 'Garrett Wilson (NYJ)',\n",
       " \"Ja'Marr Chase (CIN)\",\n",
       " \"Ja'Marr Chase (CIN)\",\n",
       " 'Jaylen Waddle (MIA)',\n",
       " 'Jaylen Waddle (MIA)',\n",
       " 'Jeremy Maclin (FA)',\n",
       " 'Jeremy Maclin (FA)',\n",
       " 'Jerry Jeudy (DEN)',\n",
       " 'Julio Jones (FA)',\n",
       " 'Julio Jones (FA)',\n",
       " 'Julio Jones (FA)',\n",
       " 'Julio Jones (FA)',\n",
       " 'Julio Jones (FA)',\n",
       " 'Julio Jones (FA)',\n",
       " 'Justin Jefferson (MIN)',\n",
       " 'Justin Jefferson (MIN)',\n",
       " 'Justin Jefferson (MIN)',\n",
       " 'Kelvin Benjamin (FA)',\n",
       " 'Kelvin Benjamin (FA)',\n",
       " 'Kendall Wright (FA)',\n",
       " 'Larry Fitzgerald (FA)',\n",
       " 'Larry Fitzgerald (FA)',\n",
       " 'Larry Fitzgerald (FA)',\n",
       " 'Larry Fitzgerald (FA)',\n",
       " 'Marquise Brown (ARI)',\n",
       " 'Michael Crabtree (FA)',\n",
       " 'Michael Crabtree (FA)',\n",
       " 'Michael Floyd (FA)',\n",
       " 'Mike Evans (TB)',\n",
       " 'Mike Evans (TB)',\n",
       " 'Mike Evans (TB)',\n",
       " 'Mike Evans (TB)',\n",
       " 'Mike Evans (TB)',\n",
       " 'Mike Evans (TB)',\n",
       " 'Mike Evans (TB)',\n",
       " 'Mike Evans (TB)',\n",
       " 'Mike Evans (TB)',\n",
       " 'Mike Williams (LAC)',\n",
       " 'Mike Williams (LAC)',\n",
       " 'Nelson Agholor (BAL)',\n",
       " 'Odell Beckham Jr. (BAL)',\n",
       " 'Odell Beckham Jr. (BAL)',\n",
       " 'Odell Beckham Jr. (BAL)',\n",
       " 'Odell Beckham Jr. (BAL)',\n",
       " 'Roddy White (FA)',\n",
       " 'Sammy Watkins (FA)']"
      ]
     },
     "execution_count": 59,
     "metadata": {},
     "output_type": "execute_result"
    }
   ],
   "source": [
    "sorted(nfl_wr_2013_2022.Player[nfl_wr_2013_2022.DRAFTED == 1])"
   ]
  },
  {
   "cell_type": "code",
   "execution_count": 60,
   "id": "fce0a508",
   "metadata": {},
   "outputs": [
    {
     "data": {
      "text/plain": [
       "['A.J. Brown (PHI)',\n",
       " 'A.J. Brown (PHI)',\n",
       " 'A.J. Brown (PHI)',\n",
       " 'Allen Robinson II (PIT)',\n",
       " 'Allen Robinson II (PIT)',\n",
       " 'Allen Robinson II (PIT)',\n",
       " 'Alshon Jeffery (FA)',\n",
       " 'Alshon Jeffery (FA)',\n",
       " 'Alshon Jeffery (FA)',\n",
       " 'Anquan Boldin (FA)',\n",
       " 'Anquan Boldin (FA)',\n",
       " 'Chase Claypool (CHI)',\n",
       " 'Christian Kirk (JAC)',\n",
       " 'Courtland Sutton (DEN)',\n",
       " 'DJ Chark Jr. (CAR)',\n",
       " 'DK Metcalf (SEA)',\n",
       " 'DK Metcalf (SEA)',\n",
       " 'DK Metcalf (SEA)',\n",
       " 'Davante Adams (LV)',\n",
       " 'Davante Adams (LV)',\n",
       " 'Davante Adams (LV)',\n",
       " 'Davante Adams (LV)',\n",
       " 'Davante Adams (LV)',\n",
       " 'Davante Adams (LV)',\n",
       " 'Davante Adams (LV)',\n",
       " 'DeSean Jackson (FA)',\n",
       " 'DeSean Jackson (FA)',\n",
       " 'Deebo Samuel (SF)',\n",
       " 'Devin Funchess (FA)',\n",
       " 'Golden Tate (FA)',\n",
       " 'Golden Tate (FA)',\n",
       " 'Golden Tate (FA)',\n",
       " 'Jarvis Landry (FA)',\n",
       " 'Jarvis Landry (FA)',\n",
       " 'Jarvis Landry (FA)',\n",
       " 'Jarvis Landry (FA)',\n",
       " 'Jarvis Landry (FA)',\n",
       " 'Jordan Matthews (FA)',\n",
       " 'Jordy Nelson (FA)',\n",
       " 'Jordy Nelson (FA)',\n",
       " 'Jordy Nelson (FA)',\n",
       " 'Josh Gordon (FA)',\n",
       " 'JuJu Smith-Schuster (NE)',\n",
       " 'JuJu Smith-Schuster (NE)',\n",
       " 'JuJu Smith-Schuster (NE)',\n",
       " 'Michael Pittman Jr. (IND)',\n",
       " 'Michael Pittman Jr. (IND)',\n",
       " 'Michael Thomas (NO)',\n",
       " 'Michael Thomas (NO)',\n",
       " 'Michael Thomas (NO)',\n",
       " 'Michael Thomas (NO)',\n",
       " 'Randall Cobb (FA)',\n",
       " 'Robert Woods (HOU)',\n",
       " 'Robert Woods (HOU)',\n",
       " 'Robert Woods (HOU)',\n",
       " 'Tee Higgins (CIN)',\n",
       " 'Tee Higgins (CIN)',\n",
       " 'Torrey Smith (FA)',\n",
       " 'Tyler Boyd (CIN)',\n",
       " 'Tyler Boyd (CIN)',\n",
       " 'Vincent Jackson (FA)']"
      ]
     },
     "execution_count": 60,
     "metadata": {},
     "output_type": "execute_result"
    }
   ],
   "source": [
    "sorted(nfl_wr_2013_2022.Player[nfl_wr_2013_2022.DRAFTED == 2])"
   ]
  },
  {
   "cell_type": "code",
   "execution_count": 61,
   "id": "c6dc1866",
   "metadata": {},
   "outputs": [
    {
     "data": {
      "text/plain": [
       "['Brandon LaFell (FA)',\n",
       " 'Chris Godwin (TB)',\n",
       " 'Chris Godwin (TB)',\n",
       " 'Chris Godwin (TB)',\n",
       " 'Cooper Kupp (LAR)',\n",
       " 'Cooper Kupp (LAR)',\n",
       " 'Cooper Kupp (LAR)',\n",
       " 'Diontae Johnson (PIT)',\n",
       " 'Diontae Johnson (PIT)',\n",
       " 'Emmanuel Sanders (FA)',\n",
       " 'Emmanuel Sanders (FA)',\n",
       " 'Emmanuel Sanders (FA)',\n",
       " 'Emmanuel Sanders (FA)',\n",
       " 'Eric Decker (FA)',\n",
       " 'Eric Decker (FA)',\n",
       " 'John Brown (FA)',\n",
       " 'John Brown (FA)',\n",
       " 'Keenan Allen (LAC)',\n",
       " 'Keenan Allen (LAC)',\n",
       " 'Keenan Allen (LAC)',\n",
       " 'Keenan Allen (LAC)',\n",
       " 'Keenan Allen (LAC)',\n",
       " 'Keenan Allen (LAC)',\n",
       " 'Kenny Golladay (FA)',\n",
       " 'Kenny Golladay (FA)',\n",
       " 'Michael Gallup (DAL)',\n",
       " 'Mike Wallace (FA)',\n",
       " 'Mike Wallace (FA)',\n",
       " 'Steve Smith (FA)',\n",
       " 'T.Y. Hilton (FA)',\n",
       " 'T.Y. Hilton (FA)',\n",
       " 'T.Y. Hilton (FA)',\n",
       " 'T.Y. Hilton (FA)',\n",
       " 'T.Y. Hilton (FA)',\n",
       " 'Terrelle Pryor Sr. (FA)',\n",
       " 'Terry McLaurin (WAS)',\n",
       " 'Terry McLaurin (WAS)',\n",
       " 'Tyler Lockett (SEA)',\n",
       " 'Tyler Lockett (SEA)',\n",
       " 'Tyler Lockett (SEA)',\n",
       " 'Tyler Lockett (SEA)',\n",
       " 'Tyler Lockett (SEA)']"
      ]
     },
     "execution_count": 61,
     "metadata": {},
     "output_type": "execute_result"
    }
   ],
   "source": [
    "sorted(nfl_wr_2013_2022.Player[nfl_wr_2013_2022.DRAFTED == 3])"
   ]
  },
  {
   "cell_type": "code",
   "execution_count": 62,
   "id": "be79c77b",
   "metadata": {},
   "outputs": [
    {
     "data": {
      "text/plain": [
       "['Amon-Ra St. Brown (DET)',\n",
       " 'Amon-Ra St. Brown (DET)',\n",
       " 'Brandon Marshall (FA)',\n",
       " 'Brandon Marshall (FA)',\n",
       " 'Brian Hartline (FA)']"
      ]
     },
     "execution_count": 62,
     "metadata": {},
     "output_type": "execute_result"
    }
   ],
   "source": [
    "sorted(nfl_wr_2013_2022.Player[nfl_wr_2013_2022.DRAFTED == 4])"
   ]
  },
  {
   "cell_type": "code",
   "execution_count": 63,
   "id": "23803912",
   "metadata": {},
   "outputs": [
    {
     "data": {
      "text/plain": [
       "['Darnell Mooney (CHI)',\n",
       " 'Hunter Renfrow (LV)',\n",
       " 'Marvin Jones Jr. (DET)',\n",
       " 'Marvin Jones Jr. (DET)',\n",
       " 'Stefon Diggs (BUF)',\n",
       " 'Stefon Diggs (BUF)',\n",
       " 'Stefon Diggs (BUF)',\n",
       " 'Stefon Diggs (BUF)',\n",
       " 'Stefon Diggs (BUF)',\n",
       " 'Stefon Diggs (BUF)',\n",
       " 'Tyreek Hill (MIA)',\n",
       " 'Tyreek Hill (MIA)',\n",
       " 'Tyreek Hill (MIA)',\n",
       " 'Tyreek Hill (MIA)',\n",
       " 'Tyreek Hill (MIA)',\n",
       " 'Tyreek Hill (MIA)']"
      ]
     },
     "execution_count": 63,
     "metadata": {},
     "output_type": "execute_result"
    }
   ],
   "source": [
    "sorted(nfl_wr_2013_2022.Player[nfl_wr_2013_2022.DRAFTED == 5])"
   ]
  },
  {
   "cell_type": "code",
   "execution_count": 64,
   "id": "05bef1ad",
   "metadata": {},
   "outputs": [
    {
     "data": {
      "text/plain": [
       "['Antonio Brown (FA)',\n",
       " 'Antonio Brown (FA)',\n",
       " 'Antonio Brown (FA)',\n",
       " 'Antonio Brown (FA)',\n",
       " 'Antonio Brown (FA)',\n",
       " 'Antonio Brown (FA)',\n",
       " 'Pierre Garcon (FA)']"
      ]
     },
     "execution_count": 64,
     "metadata": {},
     "output_type": "execute_result"
    }
   ],
   "source": [
    "sorted(nfl_wr_2013_2022.Player[nfl_wr_2013_2022.DRAFTED == 6])"
   ]
  },
  {
   "cell_type": "code",
   "execution_count": 65,
   "id": "405ebdfb",
   "metadata": {},
   "outputs": [
    {
     "data": {
      "text/plain": [
       "['Julian Edelman (FA)',\n",
       " 'Julian Edelman (FA)',\n",
       " 'Julian Edelman (FA)',\n",
       " 'Julian Edelman (FA)',\n",
       " 'Julian Edelman (FA)',\n",
       " 'Rishard Matthews (FA)']"
      ]
     },
     "execution_count": 65,
     "metadata": {},
     "output_type": "execute_result"
    }
   ],
   "source": [
    "sorted(nfl_wr_2013_2022.Player[nfl_wr_2013_2022.DRAFTED == 7])"
   ]
  },
  {
   "cell_type": "code",
   "execution_count": 66,
   "id": "9ea79ecf",
   "metadata": {},
   "outputs": [
    {
     "data": {
      "text/plain": [
       "['A.J. Brown (PHI)',\n",
       " 'Amari Cooper (CLE)',\n",
       " 'Amon-Ra St. Brown (DET)',\n",
       " 'Calvin Ridley (JAC)',\n",
       " 'CeeDee Lamb (DAL)',\n",
       " 'Chase Claypool (CHI)',\n",
       " 'Garrett Wilson (NYJ)',\n",
       " \"Ja'Marr Chase (CIN)\",\n",
       " 'Jaylen Waddle (MIA)',\n",
       " 'JuJu Smith-Schuster (NE)',\n",
       " 'Justin Jefferson (MIN)',\n",
       " 'Keenan Allen (LAC)',\n",
       " 'Kelvin Benjamin (FA)',\n",
       " 'Michael Thomas (NO)',\n",
       " 'Mike Evans (TB)',\n",
       " 'Odell Beckham Jr. (BAL)',\n",
       " 'Tyreek Hill (MIA)']"
      ]
     },
     "execution_count": 66,
     "metadata": {},
     "output_type": "execute_result"
    }
   ],
   "source": [
    "sorted(nfl_wr_2013_2022.Player[nfl_wr_2013_2022.YearInLeague == 1])"
   ]
  },
  {
   "cell_type": "code",
   "execution_count": 68,
   "id": "d4095b1f",
   "metadata": {},
   "outputs": [
    {
     "data": {
      "text/plain": [
       "['Andre Johnson (FA)',\n",
       " 'Anquan Boldin (FA)',\n",
       " 'Anquan Boldin (FA)',\n",
       " 'Antonio Brown (FA)',\n",
       " 'Brandon Marshall (FA)',\n",
       " 'Calvin Johnson (FA)',\n",
       " 'Davante Adams (LV)',\n",
       " 'Emmanuel Sanders (FA)',\n",
       " 'Jordy Nelson (FA)',\n",
       " 'Julian Edelman (FA)',\n",
       " 'Julian Edelman (FA)',\n",
       " 'Julio Jones (FA)',\n",
       " 'Keenan Allen (LAC)',\n",
       " 'Larry Fitzgerald (FA)',\n",
       " 'Larry Fitzgerald (FA)',\n",
       " 'Larry Fitzgerald (FA)',\n",
       " 'Larry Fitzgerald (FA)',\n",
       " 'Marvin Jones Jr. (DET)',\n",
       " 'Mike Evans (TB)',\n",
       " 'Roddy White (FA)',\n",
       " 'Steve Smith (FA)',\n",
       " 'Vincent Jackson (FA)',\n",
       " 'Wes Welker (FA)']"
      ]
     },
     "execution_count": 68,
     "metadata": {},
     "output_type": "execute_result"
    }
   ],
   "source": [
    "sorted(nfl_wr_2013_2022.Player[nfl_wr_2013_2022.YearInLeague > 8])"
   ]
  },
  {
   "cell_type": "code",
   "execution_count": 69,
   "id": "8a8a851e",
   "metadata": {},
   "outputs": [
    {
     "data": {
      "text/plain": [
       "23"
      ]
     },
     "execution_count": 69,
     "metadata": {},
     "output_type": "execute_result"
    }
   ],
   "source": [
    "len(nfl_wr_2013_2022.Player[nfl_wr_2013_2022.YearInLeague > 8])"
   ]
  },
  {
   "cell_type": "code",
   "execution_count": 84,
   "id": "5cc2aad9",
   "metadata": {},
   "outputs": [
    {
     "data": {
      "text/plain": [
       "10"
      ]
     },
     "execution_count": 84,
     "metadata": {},
     "output_type": "execute_result"
    }
   ],
   "source": [
    "len(nfl_wr_2013_2022.Player[nfl_wr_2013_2022.YearInLeague == 9])"
   ]
  },
  {
   "cell_type": "code",
   "execution_count": 78,
   "id": "ba5e8a04",
   "metadata": {},
   "outputs": [
    {
     "data": {
      "text/plain": [
       "20"
      ]
     },
     "execution_count": 78,
     "metadata": {},
     "output_type": "execute_result"
    }
   ],
   "source": [
    "len(nfl_wr_2013_2022.Player[nfl_wr_2013_2022.YearInLeague == 8])"
   ]
  },
  {
   "cell_type": "code",
   "execution_count": 74,
   "id": "13fb5f0f",
   "metadata": {},
   "outputs": [
    {
     "data": {
      "text/plain": [
       "23"
      ]
     },
     "execution_count": 74,
     "metadata": {},
     "output_type": "execute_result"
    }
   ],
   "source": [
    "len(nfl_wr_2013_2022.Player[nfl_wr_2013_2022.YearInLeague == 7])"
   ]
  },
  {
   "cell_type": "code",
   "execution_count": 75,
   "id": "df277d87",
   "metadata": {},
   "outputs": [
    {
     "data": {
      "text/plain": [
       "30"
      ]
     },
     "execution_count": 75,
     "metadata": {},
     "output_type": "execute_result"
    }
   ],
   "source": [
    "len(nfl_wr_2013_2022.Player[nfl_wr_2013_2022.YearInLeague == 6])"
   ]
  },
  {
   "cell_type": "code",
   "execution_count": 76,
   "id": "a67cebd2",
   "metadata": {},
   "outputs": [
    {
     "data": {
      "text/plain": [
       "32"
      ]
     },
     "execution_count": 76,
     "metadata": {},
     "output_type": "execute_result"
    }
   ],
   "source": [
    "len(nfl_wr_2013_2022.Player[nfl_wr_2013_2022.YearInLeague == 5])"
   ]
  },
  {
   "cell_type": "code",
   "execution_count": 79,
   "id": "114e052f",
   "metadata": {},
   "outputs": [
    {
     "data": {
      "text/plain": [
       "22"
      ]
     },
     "execution_count": 79,
     "metadata": {},
     "output_type": "execute_result"
    }
   ],
   "source": [
    "len(nfl_wr_2013_2022.Player[nfl_wr_2013_2022.YearInLeague == 4])"
   ]
  },
  {
   "cell_type": "code",
   "execution_count": 81,
   "id": "5fd7d760",
   "metadata": {},
   "outputs": [
    {
     "data": {
      "text/plain": [
       "33"
      ]
     },
     "execution_count": 81,
     "metadata": {},
     "output_type": "execute_result"
    }
   ],
   "source": [
    "len(nfl_wr_2013_2022.Player[nfl_wr_2013_2022.YearInLeague == 3])"
   ]
  },
  {
   "cell_type": "code",
   "execution_count": 82,
   "id": "d64c7195",
   "metadata": {},
   "outputs": [
    {
     "data": {
      "text/plain": [
       "40"
      ]
     },
     "execution_count": 82,
     "metadata": {},
     "output_type": "execute_result"
    }
   ],
   "source": [
    "len(nfl_wr_2013_2022.Player[nfl_wr_2013_2022.YearInLeague == 2])"
   ]
  },
  {
   "cell_type": "code",
   "execution_count": 83,
   "id": "aae0f49e",
   "metadata": {},
   "outputs": [
    {
     "data": {
      "text/plain": [
       "17"
      ]
     },
     "execution_count": 83,
     "metadata": {},
     "output_type": "execute_result"
    }
   ],
   "source": [
    "len(nfl_wr_2013_2022.Player[nfl_wr_2013_2022.YearInLeague == 1])"
   ]
  },
  {
   "cell_type": "code",
   "execution_count": 93,
   "id": "572dff0a",
   "metadata": {},
   "outputs": [
    {
     "data": {
      "text/plain": [
       "['49ers',\n",
       " '49ers',\n",
       " '49ers',\n",
       " '49ers',\n",
       " 'Bears',\n",
       " 'Bears',\n",
       " 'Bears',\n",
       " 'Bears',\n",
       " 'Bengals',\n",
       " 'Bengals',\n",
       " 'Bengals',\n",
       " 'Bengals',\n",
       " 'Bengals',\n",
       " 'Bengals',\n",
       " 'Bengals',\n",
       " 'Bengals',\n",
       " 'Bengals',\n",
       " 'Bengals',\n",
       " 'Bengals',\n",
       " 'Bengals',\n",
       " 'Bills',\n",
       " 'Bills',\n",
       " 'Bills',\n",
       " 'Bills',\n",
       " 'Broncos',\n",
       " 'Broncos',\n",
       " 'Broncos',\n",
       " 'Broncos',\n",
       " 'Broncos',\n",
       " 'Broncos',\n",
       " 'Broncos',\n",
       " 'Broncos',\n",
       " 'Broncos',\n",
       " 'Broncos',\n",
       " 'Broncos',\n",
       " 'Browns',\n",
       " 'Buccaneers',\n",
       " 'Buccaneers',\n",
       " 'Buccaneers',\n",
       " 'Buccaneers',\n",
       " 'Buccaneers',\n",
       " 'Buccaneers',\n",
       " 'Buccaneers',\n",
       " 'Buccaneers',\n",
       " 'Buccaneers',\n",
       " 'Buccaneers',\n",
       " 'Buccaneers',\n",
       " 'Buccaneers',\n",
       " 'Cardinals',\n",
       " 'Cardinals',\n",
       " 'Cardinals',\n",
       " 'Cardinals',\n",
       " 'Cardinals',\n",
       " 'Cardinals',\n",
       " 'Cardinals',\n",
       " 'Cardinals',\n",
       " 'Cardinals',\n",
       " 'Cardinals',\n",
       " 'Chargers',\n",
       " 'Chargers',\n",
       " 'Chargers',\n",
       " 'Chargers',\n",
       " 'Chargers',\n",
       " 'Chargers',\n",
       " 'Chargers',\n",
       " 'Chargers',\n",
       " 'Chargers',\n",
       " 'Chargers',\n",
       " 'Chargers',\n",
       " 'Chiefs',\n",
       " 'Chiefs',\n",
       " 'Chiefs',\n",
       " 'Chiefs',\n",
       " 'Chiefs',\n",
       " 'Chiefs',\n",
       " 'Colts',\n",
       " 'Colts',\n",
       " 'Colts',\n",
       " 'Colts',\n",
       " 'Colts',\n",
       " 'Colts',\n",
       " 'Colts',\n",
       " 'Colts',\n",
       " 'Commanders',\n",
       " 'Commanders',\n",
       " 'Cowboys',\n",
       " 'Cowboys',\n",
       " 'Cowboys',\n",
       " 'Cowboys',\n",
       " 'Cowboys',\n",
       " 'Cowboys',\n",
       " 'Cowboys',\n",
       " 'Dolphins',\n",
       " 'Dolphins',\n",
       " 'Dolphins',\n",
       " 'Dolphins',\n",
       " 'Dolphins',\n",
       " 'Dolphins',\n",
       " 'Dolphins',\n",
       " 'Dolphins',\n",
       " 'Dolphins',\n",
       " 'Dolphins',\n",
       " 'Eagles',\n",
       " 'Eagles',\n",
       " 'Eagles',\n",
       " 'Eagles',\n",
       " 'Eagles',\n",
       " 'Eagles',\n",
       " 'Eagles',\n",
       " 'Falcons',\n",
       " 'Falcons',\n",
       " 'Falcons',\n",
       " 'Falcons',\n",
       " 'Falcons',\n",
       " 'Falcons',\n",
       " 'Falcons',\n",
       " 'Falcons',\n",
       " 'Falcons',\n",
       " 'Giants',\n",
       " 'Giants',\n",
       " 'Giants',\n",
       " 'Giants',\n",
       " 'Jaguars',\n",
       " 'Jaguars',\n",
       " 'Jaguars',\n",
       " 'Jaguars',\n",
       " 'Jaguars',\n",
       " 'Jets',\n",
       " 'Jets',\n",
       " 'Jets',\n",
       " 'Lions',\n",
       " 'Lions',\n",
       " 'Lions',\n",
       " 'Lions',\n",
       " 'Lions',\n",
       " 'Lions',\n",
       " 'Lions',\n",
       " 'Packers',\n",
       " 'Packers',\n",
       " 'Packers',\n",
       " 'Packers',\n",
       " 'Packers',\n",
       " 'Packers',\n",
       " 'Packers',\n",
       " 'Packers',\n",
       " 'Packers',\n",
       " 'Packers',\n",
       " 'Packers',\n",
       " 'Panthers',\n",
       " 'Panthers',\n",
       " 'Panthers',\n",
       " 'Panthers',\n",
       " 'Panthers',\n",
       " 'Panthers',\n",
       " 'Panthers',\n",
       " 'Panthers',\n",
       " 'Panthers',\n",
       " 'Patriots',\n",
       " 'Patriots',\n",
       " 'Patriots',\n",
       " 'Patriots',\n",
       " 'Patriots',\n",
       " 'Raiders',\n",
       " 'Raiders',\n",
       " 'Raiders',\n",
       " 'Raiders',\n",
       " 'Raiders',\n",
       " 'Raiders',\n",
       " 'Raiders',\n",
       " 'Raiders',\n",
       " 'Rams',\n",
       " 'Rams',\n",
       " 'Rams',\n",
       " 'Ravens',\n",
       " 'Ravens',\n",
       " 'Saints',\n",
       " 'Saints',\n",
       " 'Saints',\n",
       " 'Saints',\n",
       " 'Saints',\n",
       " 'Saints',\n",
       " 'Saints',\n",
       " 'Saints',\n",
       " 'Saints',\n",
       " 'Saints',\n",
       " 'Seahawks',\n",
       " 'Seahawks',\n",
       " 'Seahawks',\n",
       " 'Seahawks',\n",
       " 'Seahawks',\n",
       " 'Seahawks',\n",
       " 'Seahawks',\n",
       " 'Seahawks',\n",
       " 'Seahawks',\n",
       " 'Seahawks',\n",
       " 'Seahawks',\n",
       " 'Seahawks',\n",
       " 'Seahawks',\n",
       " 'Seahawks',\n",
       " 'Steelers',\n",
       " 'Steelers',\n",
       " 'Steelers',\n",
       " 'Steelers',\n",
       " 'Steelers',\n",
       " 'Steelers',\n",
       " 'Steelers',\n",
       " 'Steelers',\n",
       " 'Steelers',\n",
       " 'Steelers',\n",
       " 'Steelers',\n",
       " 'Steelers',\n",
       " 'Steelers',\n",
       " 'Steelers',\n",
       " 'Steelers',\n",
       " 'Steelers',\n",
       " 'Steelers',\n",
       " 'Steelers',\n",
       " 'Texans',\n",
       " 'Texans',\n",
       " 'Texans',\n",
       " 'Texans',\n",
       " 'Texans',\n",
       " 'Texans',\n",
       " 'Texans',\n",
       " 'Titans',\n",
       " 'Titans',\n",
       " 'Titans',\n",
       " 'Titans',\n",
       " 'Vikings',\n",
       " 'Vikings',\n",
       " 'Vikings',\n",
       " 'Vikings',\n",
       " 'Vikings',\n",
       " 'Vikings',\n",
       " 'Vikings',\n",
       " 'Vikings',\n",
       " 'Vikings',\n",
       " 'Vikings',\n",
       " 'Vikings',\n",
       " 'Vikings']"
      ]
     },
     "execution_count": 93,
     "metadata": {},
     "output_type": "execute_result"
    }
   ],
   "source": [
    "sorted(nfl_wr_2013_2022.DraftedTeam)"
   ]
  },
  {
   "cell_type": "code",
   "execution_count": 116,
   "id": "7f5119f6",
   "metadata": {},
   "outputs": [
    {
     "data": {
      "text/plain": [
       "Mike Evans (TB)            9\n",
       "Davante Adams (LV)         7\n",
       "Brandin Cooks (DAL)        6\n",
       "Julio Jones (FA)           6\n",
       "DeAndre Hopkins (ARI)      6\n",
       "                          ..\n",
       "Terrelle Pryor Sr. (FA)    1\n",
       "Torrey Smith (FA)          1\n",
       "Devin Funchess (FA)        1\n",
       "Nelson Agholor (BAL)       1\n",
       "Jerry Jeudy (DEN)          1\n",
       "Name: Player, Length: 94, dtype: int64"
      ]
     },
     "execution_count": 116,
     "metadata": {},
     "output_type": "execute_result"
    }
   ],
   "source": [
    "nfl_wr_2013_2022.Player.value_counts()"
   ]
  },
  {
   "cell_type": "code",
   "execution_count": 117,
   "id": "b9e272f8",
   "metadata": {},
   "outputs": [
    {
     "data": {
      "text/plain": [
       "1    92\n",
       "2    61\n",
       "3    42\n",
       "5    16\n",
       "8    11\n",
       "6     7\n",
       "7     6\n",
       "4     5\n",
       "Name: DRAFTED, dtype: int64"
      ]
     },
     "execution_count": 117,
     "metadata": {},
     "output_type": "execute_result"
    }
   ],
   "source": [
    "nfl_wr_2013_2022.DRAFTED.value_counts()"
   ]
  },
  {
   "cell_type": "code",
   "execution_count": 118,
   "id": "ead94152",
   "metadata": {},
   "outputs": [
    {
     "data": {
      "text/plain": [
       "2     40\n",
       "3     33\n",
       "5     32\n",
       "6     30\n",
       "7     23\n",
       "4     22\n",
       "8     20\n",
       "1     17\n",
       "9     10\n",
       "10     5\n",
       "11     3\n",
       "14     2\n",
       "12     2\n",
       "13     1\n",
       "Name: YearInLeague, dtype: int64"
      ]
     },
     "execution_count": 118,
     "metadata": {},
     "output_type": "execute_result"
    }
   ],
   "source": [
    "nfl_wr_2013_2022.YearInLeague.value_counts()"
   ]
  },
  {
   "cell_type": "code",
   "execution_count": 119,
   "id": "9adb741e",
   "metadata": {},
   "outputs": [
    {
     "data": {
      "text/plain": [
       "Mike Evans (TB)            9\n",
       "DeAndre Hopkins (ARI)      6\n",
       "Julio Jones (FA)           6\n",
       "Amari Cooper (CLE)         6\n",
       "Brandin Cooks (DAL)        6\n",
       "Demaryius Thomas (FA)      5\n",
       "Odell Beckham Jr. (BAL)    4\n",
       "Larry Fitzgerald (FA)      4\n",
       "DJ Moore (CHI)             4\n",
       "A.J. Green (FA)            4\n",
       "Dez Bryant (FA)            3\n",
       "Calvin Johnson (FA)        3\n",
       "Justin Jefferson (MIN)     3\n",
       "CeeDee Lamb (DAL)          3\n",
       "Kelvin Benjamin (FA)       2\n",
       "Michael Crabtree (FA)      2\n",
       "Jaylen Waddle (MIA)        2\n",
       "Calvin Ridley (JAC)        2\n",
       "Mike Williams (LAC)        2\n",
       "Ja'Marr Chase (CIN)        2\n",
       "Jeremy Maclin (FA)         2\n",
       "Marquise Brown (ARI)       1\n",
       "DeVonta Smith (PHI)        1\n",
       "Garrett Wilson (NYJ)       1\n",
       "Brandon Aiyuk (SF)         1\n",
       "Sammy Watkins (FA)         1\n",
       "DeVante Parker (NE)        1\n",
       "Nelson Agholor (BAL)       1\n",
       "Roddy White (FA)           1\n",
       "Michael Floyd (FA)         1\n",
       "Kendall Wright (FA)        1\n",
       "Andre Johnson (FA)         1\n",
       "Jerry Jeudy (DEN)          1\n",
       "Name: Player, dtype: int64"
      ]
     },
     "execution_count": 119,
     "metadata": {},
     "output_type": "execute_result"
    }
   ],
   "source": [
    "nfl_wr_2013_2022.Player[nfl_wr_2013_2022.DRAFTED == 1].value_counts()"
   ]
  },
  {
   "cell_type": "code",
   "execution_count": 138,
   "id": "9ed29eda",
   "metadata": {},
   "outputs": [
    {
     "data": {
      "image/png": "[encoded data removed]",
      "text/plain": [
       "<Figure size 432x288 with 1 Axes>"
      ]
     },
     "metadata": {},
     "output_type": "display_data"
    },
    {
     "data": {
      "image/png": "[encoded data removed]",
      "text/plain": [
       "<Figure size 432x288 with 1 Axes>"
      ]
     },
     "metadata": {},
     "output_type": "display_data"
    },
    {
     "data": {
      "text/plain": [
       "<Figure size 432x288 with 0 Axes>"
      ]
     },
     "metadata": {},
     "output_type": "display_data"
    }
   ],
   "source": [
    "top_24_by_round = [92,61,42,5,16,7,6,11]\n",
    "top_24_unique_by_round = [33,27,16,3,5,2,2,6]\n",
    "\n",
    "round_drafted = ['Round 1', 'Round 2', 'Round 3', 'Round 4', 'Round 5', 'Round 6', 'Round 7', 'Undrafted']\n",
    "plt.pie(top_24_by_round, labels = round_drafted, autopct='%.2f%%')\n",
    "plt.title('Top 24 WRs and Where Drafted in NFL Draft, 2013 - 2022')\n",
    "my_circle=plt.Circle( (0,0), 0.7, color='white')\n",
    "p=plt.gcf()\n",
    "p.gca().add_artist(my_circle)\n",
    "plt.show()\n",
    "plt.clf()\n",
    "\n",
    "plt.pie(top_24_unique_by_round, normalize = True, labels = round_drafted, autopct='%.2f%%')\n",
    "plt.title('WRs Who Have Finished Top 24 and Where Drafted in NFL Draft, 2013 - 2022')\n",
    "my_circle=plt.Circle( (0,0), 0.7, color='white')\n",
    "p=plt.gcf()\n",
    "p.gca().add_artist(my_circle)\n",
    "plt.show()\n",
    "plt.clf()"
   ]
  },
  {
   "cell_type": "code",
   "execution_count": 99,
   "id": "0268f690",
   "metadata": {},
   "outputs": [
    {
     "data": {
      "text/plain": [
       "Index(['Rank', 'Player', 'REC', 'TGT', 'YDS', 'Y/R', 'LG', '20+', 'TD', 'ATT',\n",
       "       'YDS.1', 'TD.1', 'FL', 'G', 'FPTS', 'FPTS/G', 'ROST', 'DRAFTED', 'YEAR',\n",
       "       'YRDrafted', 'YearInLeague', 'DraftedTeam'],\n",
       "      dtype='object')"
      ]
     },
     "execution_count": 99,
     "metadata": {},
     "output_type": "execute_result"
    }
   ],
   "source": [
    "nfl_wr_2013_2022.columns"
   ]
  },
  {
   "cell_type": "code",
   "execution_count": 146,
   "id": "24400559",
   "metadata": {},
   "outputs": [
    {
     "data": {
      "text/plain": [
       "Mike Evans (TB)            9\n",
       "DeAndre Hopkins (ARI)      6\n",
       "Julio Jones (FA)           6\n",
       "Amari Cooper (CLE)         6\n",
       "Brandin Cooks (DAL)        6\n",
       "Demaryius Thomas (FA)      5\n",
       "Odell Beckham Jr. (BAL)    4\n",
       "Larry Fitzgerald (FA)      4\n",
       "DJ Moore (CHI)             4\n",
       "A.J. Green (FA)            4\n",
       "Dez Bryant (FA)            3\n",
       "Calvin Johnson (FA)        3\n",
       "Justin Jefferson (MIN)     3\n",
       "CeeDee Lamb (DAL)          3\n",
       "Kelvin Benjamin (FA)       2\n",
       "Michael Crabtree (FA)      2\n",
       "Jaylen Waddle (MIA)        2\n",
       "Calvin Ridley (JAC)        2\n",
       "Mike Williams (LAC)        2\n",
       "Ja'Marr Chase (CIN)        2\n",
       "Jeremy Maclin (FA)         2\n",
       "Marquise Brown (ARI)       1\n",
       "DeVonta Smith (PHI)        1\n",
       "Garrett Wilson (NYJ)       1\n",
       "Brandon Aiyuk (SF)         1\n",
       "Sammy Watkins (FA)         1\n",
       "DeVante Parker (NE)        1\n",
       "Nelson Agholor (BAL)       1\n",
       "Roddy White (FA)           1\n",
       "Michael Floyd (FA)         1\n",
       "Kendall Wright (FA)        1\n",
       "Andre Johnson (FA)         1\n",
       "Jerry Jeudy (DEN)          1\n",
       "Name: Player, dtype: int64"
      ]
     },
     "execution_count": 146,
     "metadata": {},
     "output_type": "execute_result"
    }
   ],
   "source": [
    "nfl_wr_2013_2022.Player[nfl_wr_2013_2022.DRAFTED == 1].value_counts()"
   ]
  },
  {
   "cell_type": "code",
   "execution_count": 139,
   "id": "e272f676",
   "metadata": {},
   "outputs": [
    {
     "data": {
      "text/plain": [
       "Davante Adams (LV)           7\n",
       "Jarvis Landry (FA)           5\n",
       "Michael Thomas (NO)          4\n",
       "Golden Tate (FA)             3\n",
       "Robert Woods (HOU)           3\n",
       "JuJu Smith-Schuster (NE)     3\n",
       "DK Metcalf (SEA)             3\n",
       "Alshon Jeffery (FA)          3\n",
       "Allen Robinson II (PIT)      3\n",
       "Jordy Nelson (FA)            3\n",
       "A.J. Brown (PHI)             3\n",
       "Michael Pittman Jr. (IND)    2\n",
       "Tee Higgins (CIN)            2\n",
       "Anquan Boldin (FA)           2\n",
       "DeSean Jackson (FA)          2\n",
       "Tyler Boyd (CIN)             2\n",
       "Courtland Sutton (DEN)       1\n",
       "Deebo Samuel (SF)            1\n",
       "Chase Claypool (CHI)         1\n",
       "Josh Gordon (FA)             1\n",
       "DJ Chark Jr. (CAR)           1\n",
       "Devin Funchess (FA)          1\n",
       "Jordan Matthews (FA)         1\n",
       "Randall Cobb (FA)            1\n",
       "Torrey Smith (FA)            1\n",
       "Vincent Jackson (FA)         1\n",
       "Christian Kirk (JAC)         1\n",
       "Name: Player, dtype: int64"
      ]
     },
     "execution_count": 139,
     "metadata": {},
     "output_type": "execute_result"
    }
   ],
   "source": [
    "nfl_wr_2013_2022.Player[nfl_wr_2013_2022.DRAFTED == 2].value_counts()"
   ]
  },
  {
   "cell_type": "code",
   "execution_count": 140,
   "id": "a4f84ae2",
   "metadata": {},
   "outputs": [
    {
     "data": {
      "text/plain": [
       "Keenan Allen (LAC)         6\n",
       "T.Y. Hilton (FA)           5\n",
       "Tyler Lockett (SEA)        5\n",
       "Emmanuel Sanders (FA)      4\n",
       "Chris Godwin (TB)          3\n",
       "Cooper Kupp (LAR)          3\n",
       "Eric Decker (FA)           2\n",
       "Mike Wallace (FA)          2\n",
       "John Brown (FA)            2\n",
       "Kenny Golladay (FA)        2\n",
       "Terry McLaurin (WAS)       2\n",
       "Diontae Johnson (PIT)      2\n",
       "Steve Smith (FA)           1\n",
       "Brandon LaFell (FA)        1\n",
       "Terrelle Pryor Sr. (FA)    1\n",
       "Michael Gallup (DAL)       1\n",
       "Name: Player, dtype: int64"
      ]
     },
     "execution_count": 140,
     "metadata": {},
     "output_type": "execute_result"
    }
   ],
   "source": [
    "nfl_wr_2013_2022.Player[nfl_wr_2013_2022.DRAFTED == 3].value_counts()"
   ]
  },
  {
   "cell_type": "code",
   "execution_count": 141,
   "id": "7fb114d8",
   "metadata": {},
   "outputs": [
    {
     "data": {
      "text/plain": [
       "Brandon Marshall (FA)      2\n",
       "Amon-Ra St. Brown (DET)    2\n",
       "Brian Hartline (FA)        1\n",
       "Name: Player, dtype: int64"
      ]
     },
     "execution_count": 141,
     "metadata": {},
     "output_type": "execute_result"
    }
   ],
   "source": [
    "nfl_wr_2013_2022.Player[nfl_wr_2013_2022.DRAFTED == 4].value_counts()"
   ]
  },
  {
   "cell_type": "code",
   "execution_count": 142,
   "id": "c67bed3e",
   "metadata": {},
   "outputs": [
    {
     "data": {
      "text/plain": [
       "Tyreek Hill (MIA)         6\n",
       "Stefon Diggs (BUF)        6\n",
       "Marvin Jones Jr. (DET)    2\n",
       "Hunter Renfrow (LV)       1\n",
       "Darnell Mooney (CHI)      1\n",
       "Name: Player, dtype: int64"
      ]
     },
     "execution_count": 142,
     "metadata": {},
     "output_type": "execute_result"
    }
   ],
   "source": [
    "nfl_wr_2013_2022.Player[nfl_wr_2013_2022.DRAFTED == 5].value_counts()"
   ]
  },
  {
   "cell_type": "code",
   "execution_count": 143,
   "id": "59a646ef",
   "metadata": {},
   "outputs": [
    {
     "data": {
      "text/plain": [
       "Antonio Brown (FA)    6\n",
       "Pierre Garcon (FA)    1\n",
       "Name: Player, dtype: int64"
      ]
     },
     "execution_count": 143,
     "metadata": {},
     "output_type": "execute_result"
    }
   ],
   "source": [
    "nfl_wr_2013_2022.Player[nfl_wr_2013_2022.DRAFTED == 6].value_counts()"
   ]
  },
  {
   "cell_type": "code",
   "execution_count": 144,
   "id": "dd1e891c",
   "metadata": {},
   "outputs": [
    {
     "data": {
      "text/plain": [
       "Julian Edelman (FA)      5\n",
       "Rishard Matthews (FA)    1\n",
       "Name: Player, dtype: int64"
      ]
     },
     "execution_count": 144,
     "metadata": {},
     "output_type": "execute_result"
    }
   ],
   "source": [
    "nfl_wr_2013_2022.Player[nfl_wr_2013_2022.DRAFTED == 7].value_counts()"
   ]
  },
  {
   "cell_type": "code",
   "execution_count": 145,
   "id": "280115b3",
   "metadata": {},
   "outputs": [
    {
     "data": {
      "text/plain": [
       "Doug Baldwin (FA)        3\n",
       "Adam Thielen (CAR)       3\n",
       "Chosen Anderson (MIA)    2\n",
       "Wes Welker (FA)          1\n",
       "Allen Hurns (FA)         1\n",
       "Tyrell Williams (FA)     1\n",
       "Name: Player, dtype: int64"
      ]
     },
     "execution_count": 145,
     "metadata": {},
     "output_type": "execute_result"
    }
   ],
   "source": [
    "nfl_wr_2013_2022.Player[nfl_wr_2013_2022.DRAFTED == 8].value_counts()"
   ]
  },
  {
   "cell_type": "code",
   "execution_count": 162,
   "id": "200287c3",
   "metadata": {},
   "outputs": [
    {
     "data": {
      "image/png": "[encoded data removed]",
      "text/plain": [
       "<Figure size 432x288 with 1 Axes>"
      ]
     },
     "metadata": {},
     "output_type": "display_data"
    }
   ],
   "source": [
    "# create a donut chart and save the figure to share for the top WRs and where they were originally drafted\n",
    "\n",
    "round_drafted = ['Round 1', 'Round 2', 'Round 3', 'Round 4', 'Round 5', 'Round 6', 'Round 7', 'Undrafted']\n",
    "plt.pie(top_24_by_round, labels = round_drafted, autopct='%.2f%%')\n",
    "plt.title('Top 24 WRs and Where Drafted in NFL Draft, 2013 - 2022')\n",
    "my_circle=plt.Circle( (0,0), 0.7, color='white')\n",
    "p=plt.gcf()\n",
    "p.gca().add_artist(my_circle)\n",
    "plt.savefig('top24_WRs_RoundDrafted.png', dpi=300, bbox_inches='tight', facecolor='#f2f2f2')\n",
    "plt.show()\n"
   ]
  },
  {
   "cell_type": "code",
   "execution_count": 160,
   "id": "c9bd9129",
   "metadata": {
    "scrolled": true
   },
   "outputs": [
    {
     "data": {
      "image/png": "[encoded data removed]",
      "text/plain": [
       "<Figure size 432x288 with 1 Axes>"
      ]
     },
     "metadata": {},
     "output_type": "display_data"
    }
   ],
   "source": [
    "# create a donut chart and save the figure to share for the top unique WRs and where they were originally drafted\n",
    "\n",
    "plt.pie(top_24_unique_by_round, normalize=True, labels=round_drafted, autopct='%.2f%%')\n",
    "plt.title('WRs Who Have Finished Top 24 and Where Drafted in NFL Draft, 2013 - 2022')\n",
    "my_circle = plt.Circle((0, 0), 0.7, color='white')\n",
    "p = plt.gcf()\n",
    "p.gca().add_artist(my_circle)\n",
    "plt.savefig('WRs_WithTop24Finish_RoundDrafted.png', dpi=300, bbox_inches='tight', facecolor='#f2f2f2')\n",
    "plt.show()"
   ]
  },
  {
   "cell_type": "code",
   "execution_count": null,
   "id": "2ddca504",
   "metadata": {},
   "outputs": [],
   "source": []
  }
 ],
 "metadata": {
  "kernelspec": {
   "display_name": "Python 3 (ipykernel)",
   "language": "python",
   "name": "python3"
  },
  "language_info": {
   "codemirror_mode": {
    "name": "ipython",
    "version": 3
   },
   "file_extension": ".py",
   "mimetype": "text/x-python",
   "name": "python",
   "nbconvert_exporter": "python",
   "pygments_lexer": "ipython3",
   "version": "3.9.7"
  }
 },
 "nbformat": 4,
 "nbformat_minor": 5
}
